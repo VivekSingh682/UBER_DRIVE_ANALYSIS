{
 "cells": [
  {
   "cell_type": "code",
   "execution_count": 1,
   "metadata": {},
   "outputs": [],
   "source": [
    "import numpy as np\n",
    "import pandas as pd\n",
    "import matplotlib.pyplot as plt\n",
    "import seaborn as sns "
   ]
  },
  {
   "cell_type": "code",
   "execution_count": 2,
   "metadata": {},
   "outputs": [],
   "source": [
    "df=pd.read_csv('E:\\\\PYTHON\\\\WEEK 3- PYTHON FOR VISUALIZATION\\\\uberdrive.csv')"
   ]
  },
  {
   "cell_type": "code",
   "execution_count": 3,
   "metadata": {},
   "outputs": [
    {
     "data": {
      "text/html": [
       "<div>\n",
       "<style scoped>\n",
       "    .dataframe tbody tr th:only-of-type {\n",
       "        vertical-align: middle;\n",
       "    }\n",
       "\n",
       "    .dataframe tbody tr th {\n",
       "        vertical-align: top;\n",
       "    }\n",
       "\n",
       "    .dataframe thead th {\n",
       "        text-align: right;\n",
       "    }\n",
       "</style>\n",
       "<table border=\"1\" class=\"dataframe\">\n",
       "  <thead>\n",
       "    <tr style=\"text-align: right;\">\n",
       "      <th></th>\n",
       "      <th>START_DATE*</th>\n",
       "      <th>END_DATE*</th>\n",
       "      <th>CATEGORY*</th>\n",
       "      <th>START*</th>\n",
       "      <th>STOP*</th>\n",
       "      <th>MILES*</th>\n",
       "      <th>PURPOSE*</th>\n",
       "    </tr>\n",
       "  </thead>\n",
       "  <tbody>\n",
       "    <tr>\n",
       "      <th>1145</th>\n",
       "      <td>12/30/2016 10:15</td>\n",
       "      <td>12/30/2016 10:33</td>\n",
       "      <td>Business</td>\n",
       "      <td>Karachi</td>\n",
       "      <td>Karachi</td>\n",
       "      <td>2.8</td>\n",
       "      <td>Errand/Supplies</td>\n",
       "    </tr>\n",
       "    <tr>\n",
       "      <th>1146</th>\n",
       "      <td>12/30/2016 11:31</td>\n",
       "      <td>12/30/2016 11:56</td>\n",
       "      <td>Business</td>\n",
       "      <td>Karachi</td>\n",
       "      <td>Karachi</td>\n",
       "      <td>2.9</td>\n",
       "      <td>Errand/Supplies</td>\n",
       "    </tr>\n",
       "    <tr>\n",
       "      <th>1147</th>\n",
       "      <td>12/30/2016 15:41</td>\n",
       "      <td>12/30/2016 16:03</td>\n",
       "      <td>Business</td>\n",
       "      <td>Karachi</td>\n",
       "      <td>Karachi</td>\n",
       "      <td>4.6</td>\n",
       "      <td>Errand/Supplies</td>\n",
       "    </tr>\n",
       "    <tr>\n",
       "      <th>1148</th>\n",
       "      <td>12/30/2016 16:45</td>\n",
       "      <td>12/30/2016 17:08</td>\n",
       "      <td>Business</td>\n",
       "      <td>Karachi</td>\n",
       "      <td>Karachi</td>\n",
       "      <td>4.6</td>\n",
       "      <td>Meeting</td>\n",
       "    </tr>\n",
       "    <tr>\n",
       "      <th>1149</th>\n",
       "      <td>12/30/2016 23:06</td>\n",
       "      <td>12/30/2016 23:10</td>\n",
       "      <td>Business</td>\n",
       "      <td>Karachi</td>\n",
       "      <td>Karachi</td>\n",
       "      <td>0.8</td>\n",
       "      <td>Customer Visit</td>\n",
       "    </tr>\n",
       "    <tr>\n",
       "      <th>1150</th>\n",
       "      <td>12/31/2016 1:07</td>\n",
       "      <td>12/31/2016 1:14</td>\n",
       "      <td>Business</td>\n",
       "      <td>Karachi</td>\n",
       "      <td>Karachi</td>\n",
       "      <td>0.7</td>\n",
       "      <td>Meeting</td>\n",
       "    </tr>\n",
       "    <tr>\n",
       "      <th>1151</th>\n",
       "      <td>12/31/2016 13:24</td>\n",
       "      <td>12/31/2016 13:42</td>\n",
       "      <td>Business</td>\n",
       "      <td>Karachi</td>\n",
       "      <td>Unknown Location</td>\n",
       "      <td>3.9</td>\n",
       "      <td>Temporary Site</td>\n",
       "    </tr>\n",
       "    <tr>\n",
       "      <th>1152</th>\n",
       "      <td>12/31/2016 15:03</td>\n",
       "      <td>12/31/2016 15:38</td>\n",
       "      <td>Business</td>\n",
       "      <td>Unknown Location</td>\n",
       "      <td>Unknown Location</td>\n",
       "      <td>16.2</td>\n",
       "      <td>Meeting</td>\n",
       "    </tr>\n",
       "    <tr>\n",
       "      <th>1153</th>\n",
       "      <td>12/31/2016 21:32</td>\n",
       "      <td>12/31/2016 21:50</td>\n",
       "      <td>Business</td>\n",
       "      <td>Katunayake</td>\n",
       "      <td>Gampaha</td>\n",
       "      <td>6.4</td>\n",
       "      <td>Temporary Site</td>\n",
       "    </tr>\n",
       "    <tr>\n",
       "      <th>1154</th>\n",
       "      <td>12/31/2016 22:08</td>\n",
       "      <td>12/31/2016 23:51</td>\n",
       "      <td>Business</td>\n",
       "      <td>Gampaha</td>\n",
       "      <td>Ilukwatta</td>\n",
       "      <td>48.2</td>\n",
       "      <td>Temporary Site</td>\n",
       "    </tr>\n",
       "  </tbody>\n",
       "</table>\n",
       "</div>"
      ],
      "text/plain": [
       "           START_DATE*         END_DATE* CATEGORY*            START*  \\\n",
       "1145  12/30/2016 10:15  12/30/2016 10:33  Business           Karachi   \n",
       "1146  12/30/2016 11:31  12/30/2016 11:56  Business           Karachi   \n",
       "1147  12/30/2016 15:41  12/30/2016 16:03  Business           Karachi   \n",
       "1148  12/30/2016 16:45  12/30/2016 17:08  Business           Karachi   \n",
       "1149  12/30/2016 23:06  12/30/2016 23:10  Business           Karachi   \n",
       "1150   12/31/2016 1:07   12/31/2016 1:14  Business           Karachi   \n",
       "1151  12/31/2016 13:24  12/31/2016 13:42  Business           Karachi   \n",
       "1152  12/31/2016 15:03  12/31/2016 15:38  Business  Unknown Location   \n",
       "1153  12/31/2016 21:32  12/31/2016 21:50  Business        Katunayake   \n",
       "1154  12/31/2016 22:08  12/31/2016 23:51  Business           Gampaha   \n",
       "\n",
       "                 STOP*  MILES*         PURPOSE*  \n",
       "1145           Karachi     2.8  Errand/Supplies  \n",
       "1146           Karachi     2.9  Errand/Supplies  \n",
       "1147           Karachi     4.6  Errand/Supplies  \n",
       "1148           Karachi     4.6          Meeting  \n",
       "1149           Karachi     0.8   Customer Visit  \n",
       "1150           Karachi     0.7          Meeting  \n",
       "1151  Unknown Location     3.9   Temporary Site  \n",
       "1152  Unknown Location    16.2          Meeting  \n",
       "1153           Gampaha     6.4   Temporary Site  \n",
       "1154         Ilukwatta    48.2   Temporary Site  "
      ]
     },
     "execution_count": 3,
     "metadata": {},
     "output_type": "execute_result"
    }
   ],
   "source": [
    "df.tail(10)"
   ]
  },
  {
   "cell_type": "code",
   "execution_count": 4,
   "metadata": {},
   "outputs": [
    {
     "data": {
      "text/html": [
       "<div>\n",
       "<style scoped>\n",
       "    .dataframe tbody tr th:only-of-type {\n",
       "        vertical-align: middle;\n",
       "    }\n",
       "\n",
       "    .dataframe tbody tr th {\n",
       "        vertical-align: top;\n",
       "    }\n",
       "\n",
       "    .dataframe thead th {\n",
       "        text-align: right;\n",
       "    }\n",
       "</style>\n",
       "<table border=\"1\" class=\"dataframe\">\n",
       "  <thead>\n",
       "    <tr style=\"text-align: right;\">\n",
       "      <th></th>\n",
       "      <th>START_DATE*</th>\n",
       "      <th>END_DATE*</th>\n",
       "      <th>CATEGORY*</th>\n",
       "      <th>START*</th>\n",
       "      <th>STOP*</th>\n",
       "      <th>MILES*</th>\n",
       "      <th>PURPOSE*</th>\n",
       "    </tr>\n",
       "  </thead>\n",
       "  <tbody>\n",
       "    <tr>\n",
       "      <th>0</th>\n",
       "      <td>01-01-2016 21:11</td>\n",
       "      <td>01-01-2016 21:17</td>\n",
       "      <td>Business</td>\n",
       "      <td>Fort Pierce</td>\n",
       "      <td>Fort Pierce</td>\n",
       "      <td>5.1</td>\n",
       "      <td>Meal/Entertain</td>\n",
       "    </tr>\n",
       "    <tr>\n",
       "      <th>1</th>\n",
       "      <td>01-02-2016 01:25</td>\n",
       "      <td>01-02-2016 01:37</td>\n",
       "      <td>Business</td>\n",
       "      <td>Fort Pierce</td>\n",
       "      <td>Fort Pierce</td>\n",
       "      <td>5.0</td>\n",
       "      <td>NaN</td>\n",
       "    </tr>\n",
       "    <tr>\n",
       "      <th>2</th>\n",
       "      <td>01-02-2016 20:25</td>\n",
       "      <td>01-02-2016 20:38</td>\n",
       "      <td>Business</td>\n",
       "      <td>Fort Pierce</td>\n",
       "      <td>Fort Pierce</td>\n",
       "      <td>4.8</td>\n",
       "      <td>Errand/Supplies</td>\n",
       "    </tr>\n",
       "    <tr>\n",
       "      <th>3</th>\n",
       "      <td>01-05-2016 17:31</td>\n",
       "      <td>01-05-2016 17:45</td>\n",
       "      <td>Business</td>\n",
       "      <td>Fort Pierce</td>\n",
       "      <td>Fort Pierce</td>\n",
       "      <td>4.7</td>\n",
       "      <td>Meeting</td>\n",
       "    </tr>\n",
       "    <tr>\n",
       "      <th>4</th>\n",
       "      <td>01-06-2016 14:42</td>\n",
       "      <td>01-06-2016 15:49</td>\n",
       "      <td>Business</td>\n",
       "      <td>Fort Pierce</td>\n",
       "      <td>West Palm Beach</td>\n",
       "      <td>63.7</td>\n",
       "      <td>Customer Visit</td>\n",
       "    </tr>\n",
       "    <tr>\n",
       "      <th>5</th>\n",
       "      <td>01-06-2016 17:15</td>\n",
       "      <td>01-06-2016 17:19</td>\n",
       "      <td>Business</td>\n",
       "      <td>West Palm Beach</td>\n",
       "      <td>West Palm Beach</td>\n",
       "      <td>4.3</td>\n",
       "      <td>Meal/Entertain</td>\n",
       "    </tr>\n",
       "    <tr>\n",
       "      <th>6</th>\n",
       "      <td>01-06-2016 17:30</td>\n",
       "      <td>01-06-2016 17:35</td>\n",
       "      <td>Business</td>\n",
       "      <td>West Palm Beach</td>\n",
       "      <td>Palm Beach</td>\n",
       "      <td>7.1</td>\n",
       "      <td>Meeting</td>\n",
       "    </tr>\n",
       "    <tr>\n",
       "      <th>7</th>\n",
       "      <td>01-07-2016 13:27</td>\n",
       "      <td>01-07-2016 13:33</td>\n",
       "      <td>Business</td>\n",
       "      <td>Cary</td>\n",
       "      <td>Cary</td>\n",
       "      <td>0.8</td>\n",
       "      <td>Meeting</td>\n",
       "    </tr>\n",
       "    <tr>\n",
       "      <th>8</th>\n",
       "      <td>01-10-2016 08:05</td>\n",
       "      <td>01-10-2016 08:25</td>\n",
       "      <td>Business</td>\n",
       "      <td>Cary</td>\n",
       "      <td>Morrisville</td>\n",
       "      <td>8.3</td>\n",
       "      <td>Meeting</td>\n",
       "    </tr>\n",
       "    <tr>\n",
       "      <th>9</th>\n",
       "      <td>01-10-2016 12:17</td>\n",
       "      <td>01-10-2016 12:44</td>\n",
       "      <td>Business</td>\n",
       "      <td>Jamaica</td>\n",
       "      <td>New York</td>\n",
       "      <td>16.5</td>\n",
       "      <td>Customer Visit</td>\n",
       "    </tr>\n",
       "  </tbody>\n",
       "</table>\n",
       "</div>"
      ],
      "text/plain": [
       "        START_DATE*         END_DATE* CATEGORY*           START*  \\\n",
       "0  01-01-2016 21:11  01-01-2016 21:17  Business      Fort Pierce   \n",
       "1  01-02-2016 01:25  01-02-2016 01:37  Business      Fort Pierce   \n",
       "2  01-02-2016 20:25  01-02-2016 20:38  Business      Fort Pierce   \n",
       "3  01-05-2016 17:31  01-05-2016 17:45  Business      Fort Pierce   \n",
       "4  01-06-2016 14:42  01-06-2016 15:49  Business      Fort Pierce   \n",
       "5  01-06-2016 17:15  01-06-2016 17:19  Business  West Palm Beach   \n",
       "6  01-06-2016 17:30  01-06-2016 17:35  Business  West Palm Beach   \n",
       "7  01-07-2016 13:27  01-07-2016 13:33  Business             Cary   \n",
       "8  01-10-2016 08:05  01-10-2016 08:25  Business             Cary   \n",
       "9  01-10-2016 12:17  01-10-2016 12:44  Business          Jamaica   \n",
       "\n",
       "             STOP*  MILES*         PURPOSE*  \n",
       "0      Fort Pierce     5.1   Meal/Entertain  \n",
       "1      Fort Pierce     5.0              NaN  \n",
       "2      Fort Pierce     4.8  Errand/Supplies  \n",
       "3      Fort Pierce     4.7          Meeting  \n",
       "4  West Palm Beach    63.7   Customer Visit  \n",
       "5  West Palm Beach     4.3   Meal/Entertain  \n",
       "6       Palm Beach     7.1          Meeting  \n",
       "7             Cary     0.8          Meeting  \n",
       "8      Morrisville     8.3          Meeting  \n",
       "9         New York    16.5   Customer Visit  "
      ]
     },
     "execution_count": 4,
     "metadata": {},
     "output_type": "execute_result"
    }
   ],
   "source": [
    "df.head(10)"
   ]
  },
  {
   "cell_type": "code",
   "execution_count": 5,
   "metadata": {},
   "outputs": [
    {
     "data": {
      "text/plain": [
       "(1155, 7)"
      ]
     },
     "execution_count": 5,
     "metadata": {},
     "output_type": "execute_result"
    }
   ],
   "source": [
    "df.shape"
   ]
  },
  {
   "cell_type": "code",
   "execution_count": 6,
   "metadata": {},
   "outputs": [
    {
     "name": "stdout",
     "output_type": "stream",
     "text": [
      "the no of rows are: 1155 \the no of columns are: 7\n"
     ]
    }
   ],
   "source": [
    "print('the no of rows are:',df.shape[0],\"\\the no of columns are:\",df.shape[1])"
   ]
  },
  {
   "cell_type": "code",
   "execution_count": 7,
   "metadata": {},
   "outputs": [
    {
     "data": {
      "text/plain": [
       "8085"
      ]
     },
     "execution_count": 7,
     "metadata": {},
     "output_type": "execute_result"
    }
   ],
   "source": [
    "df.size"
   ]
  },
  {
   "cell_type": "code",
   "execution_count": 8,
   "metadata": {},
   "outputs": [
    {
     "data": {
      "text/html": [
       "<div>\n",
       "<style scoped>\n",
       "    .dataframe tbody tr th:only-of-type {\n",
       "        vertical-align: middle;\n",
       "    }\n",
       "\n",
       "    .dataframe tbody tr th {\n",
       "        vertical-align: top;\n",
       "    }\n",
       "\n",
       "    .dataframe thead th {\n",
       "        text-align: right;\n",
       "    }\n",
       "</style>\n",
       "<table border=\"1\" class=\"dataframe\">\n",
       "  <thead>\n",
       "    <tr style=\"text-align: right;\">\n",
       "      <th></th>\n",
       "      <th>START_DATE*</th>\n",
       "      <th>END_DATE*</th>\n",
       "      <th>CATEGORY*</th>\n",
       "      <th>START*</th>\n",
       "      <th>STOP*</th>\n",
       "      <th>MILES*</th>\n",
       "      <th>PURPOSE*</th>\n",
       "    </tr>\n",
       "  </thead>\n",
       "  <tbody>\n",
       "    <tr>\n",
       "      <th>0</th>\n",
       "      <td>False</td>\n",
       "      <td>False</td>\n",
       "      <td>False</td>\n",
       "      <td>False</td>\n",
       "      <td>False</td>\n",
       "      <td>False</td>\n",
       "      <td>False</td>\n",
       "    </tr>\n",
       "    <tr>\n",
       "      <th>1</th>\n",
       "      <td>False</td>\n",
       "      <td>False</td>\n",
       "      <td>False</td>\n",
       "      <td>False</td>\n",
       "      <td>False</td>\n",
       "      <td>False</td>\n",
       "      <td>True</td>\n",
       "    </tr>\n",
       "    <tr>\n",
       "      <th>2</th>\n",
       "      <td>False</td>\n",
       "      <td>False</td>\n",
       "      <td>False</td>\n",
       "      <td>False</td>\n",
       "      <td>False</td>\n",
       "      <td>False</td>\n",
       "      <td>False</td>\n",
       "    </tr>\n",
       "    <tr>\n",
       "      <th>3</th>\n",
       "      <td>False</td>\n",
       "      <td>False</td>\n",
       "      <td>False</td>\n",
       "      <td>False</td>\n",
       "      <td>False</td>\n",
       "      <td>False</td>\n",
       "      <td>False</td>\n",
       "    </tr>\n",
       "    <tr>\n",
       "      <th>4</th>\n",
       "      <td>False</td>\n",
       "      <td>False</td>\n",
       "      <td>False</td>\n",
       "      <td>False</td>\n",
       "      <td>False</td>\n",
       "      <td>False</td>\n",
       "      <td>False</td>\n",
       "    </tr>\n",
       "    <tr>\n",
       "      <th>...</th>\n",
       "      <td>...</td>\n",
       "      <td>...</td>\n",
       "      <td>...</td>\n",
       "      <td>...</td>\n",
       "      <td>...</td>\n",
       "      <td>...</td>\n",
       "      <td>...</td>\n",
       "    </tr>\n",
       "    <tr>\n",
       "      <th>1150</th>\n",
       "      <td>False</td>\n",
       "      <td>False</td>\n",
       "      <td>False</td>\n",
       "      <td>False</td>\n",
       "      <td>False</td>\n",
       "      <td>False</td>\n",
       "      <td>False</td>\n",
       "    </tr>\n",
       "    <tr>\n",
       "      <th>1151</th>\n",
       "      <td>False</td>\n",
       "      <td>False</td>\n",
       "      <td>False</td>\n",
       "      <td>False</td>\n",
       "      <td>False</td>\n",
       "      <td>False</td>\n",
       "      <td>False</td>\n",
       "    </tr>\n",
       "    <tr>\n",
       "      <th>1152</th>\n",
       "      <td>False</td>\n",
       "      <td>False</td>\n",
       "      <td>False</td>\n",
       "      <td>False</td>\n",
       "      <td>False</td>\n",
       "      <td>False</td>\n",
       "      <td>False</td>\n",
       "    </tr>\n",
       "    <tr>\n",
       "      <th>1153</th>\n",
       "      <td>False</td>\n",
       "      <td>False</td>\n",
       "      <td>False</td>\n",
       "      <td>False</td>\n",
       "      <td>False</td>\n",
       "      <td>False</td>\n",
       "      <td>False</td>\n",
       "    </tr>\n",
       "    <tr>\n",
       "      <th>1154</th>\n",
       "      <td>False</td>\n",
       "      <td>False</td>\n",
       "      <td>False</td>\n",
       "      <td>False</td>\n",
       "      <td>False</td>\n",
       "      <td>False</td>\n",
       "      <td>False</td>\n",
       "    </tr>\n",
       "  </tbody>\n",
       "</table>\n",
       "<p>1155 rows × 7 columns</p>\n",
       "</div>"
      ],
      "text/plain": [
       "      START_DATE*  END_DATE*  CATEGORY*  START*  STOP*  MILES*  PURPOSE*\n",
       "0           False      False      False   False  False   False     False\n",
       "1           False      False      False   False  False   False      True\n",
       "2           False      False      False   False  False   False     False\n",
       "3           False      False      False   False  False   False     False\n",
       "4           False      False      False   False  False   False     False\n",
       "...           ...        ...        ...     ...    ...     ...       ...\n",
       "1150        False      False      False   False  False   False     False\n",
       "1151        False      False      False   False  False   False     False\n",
       "1152        False      False      False   False  False   False     False\n",
       "1153        False      False      False   False  False   False     False\n",
       "1154        False      False      False   False  False   False     False\n",
       "\n",
       "[1155 rows x 7 columns]"
      ]
     },
     "execution_count": 8,
     "metadata": {},
     "output_type": "execute_result"
    }
   ],
   "source": [
    "df.isnull()"
   ]
  },
  {
   "cell_type": "code",
   "execution_count": 9,
   "metadata": {},
   "outputs": [
    {
     "data": {
      "text/plain": [
       "START_DATE*      0\n",
       "END_DATE*        0\n",
       "CATEGORY*        0\n",
       "START*           0\n",
       "STOP*            0\n",
       "MILES*           0\n",
       "PURPOSE*       502\n",
       "dtype: int64"
      ]
     },
     "execution_count": 9,
     "metadata": {},
     "output_type": "execute_result"
    }
   ],
   "source": [
    "df.isnull().sum()"
   ]
  },
  {
   "cell_type": "code",
   "execution_count": 10,
   "metadata": {},
   "outputs": [
    {
     "data": {
      "text/html": [
       "<div>\n",
       "<style scoped>\n",
       "    .dataframe tbody tr th:only-of-type {\n",
       "        vertical-align: middle;\n",
       "    }\n",
       "\n",
       "    .dataframe tbody tr th {\n",
       "        vertical-align: top;\n",
       "    }\n",
       "\n",
       "    .dataframe thead th {\n",
       "        text-align: right;\n",
       "    }\n",
       "</style>\n",
       "<table border=\"1\" class=\"dataframe\">\n",
       "  <thead>\n",
       "    <tr style=\"text-align: right;\">\n",
       "      <th></th>\n",
       "      <th>MILES*</th>\n",
       "    </tr>\n",
       "  </thead>\n",
       "  <tbody>\n",
       "    <tr>\n",
       "      <th>count</th>\n",
       "      <td>1155.000000</td>\n",
       "    </tr>\n",
       "    <tr>\n",
       "      <th>mean</th>\n",
       "      <td>10.566840</td>\n",
       "    </tr>\n",
       "    <tr>\n",
       "      <th>std</th>\n",
       "      <td>21.579106</td>\n",
       "    </tr>\n",
       "    <tr>\n",
       "      <th>min</th>\n",
       "      <td>0.500000</td>\n",
       "    </tr>\n",
       "    <tr>\n",
       "      <th>25%</th>\n",
       "      <td>2.900000</td>\n",
       "    </tr>\n",
       "    <tr>\n",
       "      <th>50%</th>\n",
       "      <td>6.000000</td>\n",
       "    </tr>\n",
       "    <tr>\n",
       "      <th>75%</th>\n",
       "      <td>10.400000</td>\n",
       "    </tr>\n",
       "    <tr>\n",
       "      <th>max</th>\n",
       "      <td>310.300000</td>\n",
       "    </tr>\n",
       "  </tbody>\n",
       "</table>\n",
       "</div>"
      ],
      "text/plain": [
       "            MILES*\n",
       "count  1155.000000\n",
       "mean     10.566840\n",
       "std      21.579106\n",
       "min       0.500000\n",
       "25%       2.900000\n",
       "50%       6.000000\n",
       "75%      10.400000\n",
       "max     310.300000"
      ]
     },
     "execution_count": 10,
     "metadata": {},
     "output_type": "execute_result"
    }
   ],
   "source": [
    "df.describe()"
   ]
  },
  {
   "cell_type": "markdown",
   "metadata": {},
   "source": [
    "# Drop the missing values and store data in a new dataframe"
   ]
  },
  {
   "cell_type": "code",
   "execution_count": 11,
   "metadata": {},
   "outputs": [],
   "source": [
    "df.dropna(inplace=True)"
   ]
  },
  {
   "cell_type": "code",
   "execution_count": 12,
   "metadata": {},
   "outputs": [
    {
     "data": {
      "text/html": [
       "<div>\n",
       "<style scoped>\n",
       "    .dataframe tbody tr th:only-of-type {\n",
       "        vertical-align: middle;\n",
       "    }\n",
       "\n",
       "    .dataframe tbody tr th {\n",
       "        vertical-align: top;\n",
       "    }\n",
       "\n",
       "    .dataframe thead th {\n",
       "        text-align: right;\n",
       "    }\n",
       "</style>\n",
       "<table border=\"1\" class=\"dataframe\">\n",
       "  <thead>\n",
       "    <tr style=\"text-align: right;\">\n",
       "      <th></th>\n",
       "      <th>START_DATE*</th>\n",
       "      <th>END_DATE*</th>\n",
       "      <th>CATEGORY*</th>\n",
       "      <th>START*</th>\n",
       "      <th>STOP*</th>\n",
       "      <th>MILES*</th>\n",
       "      <th>PURPOSE*</th>\n",
       "    </tr>\n",
       "  </thead>\n",
       "  <tbody>\n",
       "    <tr>\n",
       "      <th>0</th>\n",
       "      <td>01-01-2016 21:11</td>\n",
       "      <td>01-01-2016 21:17</td>\n",
       "      <td>Business</td>\n",
       "      <td>Fort Pierce</td>\n",
       "      <td>Fort Pierce</td>\n",
       "      <td>5.1</td>\n",
       "      <td>Meal/Entertain</td>\n",
       "    </tr>\n",
       "    <tr>\n",
       "      <th>2</th>\n",
       "      <td>01-02-2016 20:25</td>\n",
       "      <td>01-02-2016 20:38</td>\n",
       "      <td>Business</td>\n",
       "      <td>Fort Pierce</td>\n",
       "      <td>Fort Pierce</td>\n",
       "      <td>4.8</td>\n",
       "      <td>Errand/Supplies</td>\n",
       "    </tr>\n",
       "    <tr>\n",
       "      <th>3</th>\n",
       "      <td>01-05-2016 17:31</td>\n",
       "      <td>01-05-2016 17:45</td>\n",
       "      <td>Business</td>\n",
       "      <td>Fort Pierce</td>\n",
       "      <td>Fort Pierce</td>\n",
       "      <td>4.7</td>\n",
       "      <td>Meeting</td>\n",
       "    </tr>\n",
       "    <tr>\n",
       "      <th>4</th>\n",
       "      <td>01-06-2016 14:42</td>\n",
       "      <td>01-06-2016 15:49</td>\n",
       "      <td>Business</td>\n",
       "      <td>Fort Pierce</td>\n",
       "      <td>West Palm Beach</td>\n",
       "      <td>63.7</td>\n",
       "      <td>Customer Visit</td>\n",
       "    </tr>\n",
       "    <tr>\n",
       "      <th>5</th>\n",
       "      <td>01-06-2016 17:15</td>\n",
       "      <td>01-06-2016 17:19</td>\n",
       "      <td>Business</td>\n",
       "      <td>West Palm Beach</td>\n",
       "      <td>West Palm Beach</td>\n",
       "      <td>4.3</td>\n",
       "      <td>Meal/Entertain</td>\n",
       "    </tr>\n",
       "  </tbody>\n",
       "</table>\n",
       "</div>"
      ],
      "text/plain": [
       "        START_DATE*         END_DATE* CATEGORY*           START*  \\\n",
       "0  01-01-2016 21:11  01-01-2016 21:17  Business      Fort Pierce   \n",
       "2  01-02-2016 20:25  01-02-2016 20:38  Business      Fort Pierce   \n",
       "3  01-05-2016 17:31  01-05-2016 17:45  Business      Fort Pierce   \n",
       "4  01-06-2016 14:42  01-06-2016 15:49  Business      Fort Pierce   \n",
       "5  01-06-2016 17:15  01-06-2016 17:19  Business  West Palm Beach   \n",
       "\n",
       "             STOP*  MILES*         PURPOSE*  \n",
       "0      Fort Pierce     5.1   Meal/Entertain  \n",
       "2      Fort Pierce     4.8  Errand/Supplies  \n",
       "3      Fort Pierce     4.7          Meeting  \n",
       "4  West Palm Beach    63.7   Customer Visit  \n",
       "5  West Palm Beach     4.3   Meal/Entertain  "
      ]
     },
     "execution_count": 12,
     "metadata": {},
     "output_type": "execute_result"
    }
   ],
   "source": [
    "df.head()"
   ]
  },
  {
   "cell_type": "code",
   "execution_count": 13,
   "metadata": {},
   "outputs": [
    {
     "data": {
      "text/plain": [
       "(653, 7)"
      ]
     },
     "execution_count": 13,
     "metadata": {},
     "output_type": "execute_result"
    }
   ],
   "source": [
    "df.shape"
   ]
  },
  {
   "cell_type": "code",
   "execution_count": 14,
   "metadata": {},
   "outputs": [
    {
     "name": "stdout",
     "output_type": "stream",
     "text": [
      "<class 'pandas.core.frame.DataFrame'>\n",
      "Int64Index: 653 entries, 0 to 1154\n",
      "Data columns (total 7 columns):\n",
      " #   Column       Non-Null Count  Dtype  \n",
      "---  ------       --------------  -----  \n",
      " 0   START_DATE*  653 non-null    object \n",
      " 1   END_DATE*    653 non-null    object \n",
      " 2   CATEGORY*    653 non-null    object \n",
      " 3   START*       653 non-null    object \n",
      " 4   STOP*        653 non-null    object \n",
      " 5   MILES*       653 non-null    float64\n",
      " 6   PURPOSE*     653 non-null    object \n",
      "dtypes: float64(1), object(6)\n",
      "memory usage: 40.8+ KB\n"
     ]
    }
   ],
   "source": [
    "df.info()"
   ]
  },
  {
   "cell_type": "markdown",
   "metadata": {},
   "source": [
    "# unique start locations"
   ]
  },
  {
   "cell_type": "code",
   "execution_count": 15,
   "metadata": {},
   "outputs": [
    {
     "data": {
      "text/plain": [
       "array(['01-01-2016 21:11', '01-02-2016 20:25', '01-05-2016 17:31',\n",
       "       '01-06-2016 14:42', '01-06-2016 17:15', '01-06-2016 17:30',\n",
       "       '01-07-2016 13:27', '01-10-2016 08:05', '01-10-2016 12:17',\n",
       "       '01-10-2016 15:08', '01-10-2016 18:18', '01-10-2016 19:12',\n",
       "       '01-11-2016 08:55', '01-11-2016 11:56', '01-11-2016 13:32',\n",
       "       '01-11-2016 14:30', '01-12-2016 12:33', '01-12-2016 12:53',\n",
       "       '01-12-2016 14:42', '01-12-2016 15:13', '01-12-2016 15:42',\n",
       "       '01-12-2016 16:02', '1/13/2016 13:54', '1/13/2016 15:00',\n",
       "       '1/14/2016 16:29', '1/14/2016 21:39', '1/15/2016 0:41',\n",
       "       '1/15/2016 11:43', '1/15/2016 13:26', '1/18/2016 14:55',\n",
       "       '1/18/2016 16:13', '1/19/2016 10:55', '1/20/2016 10:36',\n",
       "       '1/20/2016 11:48', '1/20/2016 13:25', '1/21/2016 14:25',\n",
       "       '1/21/2016 14:43', '1/21/2016 16:01', '1/26/2016 10:41',\n",
       "       '1/26/2016 12:33', '1/26/2016 16:24', '1/26/2016 17:17',\n",
       "       '1/26/2016 17:27', '1/27/2016 9:24', '1/27/2016 10:19',\n",
       "       '1/27/2016 12:34', '1/27/2016 14:05', '1/27/2016 14:46',\n",
       "       '1/28/2016 12:28', '1/28/2016 15:11', '1/28/2016 16:21',\n",
       "       '1/29/2016 9:31', '1/29/2016 10:56', '1/29/2016 11:43',\n",
       "       '1/29/2016 13:24', '1/29/2016 18:31', '1/29/2016 21:21',\n",
       "       '1/30/2016 16:21', '1/30/2016 18:09', '02-01-2016 10:35',\n",
       "       '02-01-2016 12:10', '02-01-2016 12:56', '02-02-2016 13:04',\n",
       "       '02-02-2016 13:51', '02-02-2016 14:38', '02-04-2016 08:40',\n",
       "       '02-04-2016 09:37', '02-04-2016 10:26', '02-04-2016 15:59',\n",
       "       '02-04-2016 16:35', '02-04-2016 18:04', '02-04-2016 20:36',\n",
       "       '02-05-2016 11:47', '02-05-2016 13:22', '02-06-2016 16:20',\n",
       "       '02-06-2016 18:57', '02-06-2016 19:28', '02-07-2016 16:49',\n",
       "       '02-07-2016 18:03', '02-07-2016 18:39', '02-07-2016 20:22',\n",
       "       '02-08-2016 12:57', '02-08-2016 14:00', '02-09-2016 20:24',\n",
       "       '02-11-2016 16:28', '02-11-2016 17:49', '02-11-2016 18:24',\n",
       "       '02-11-2016 20:36', '02-12-2016 08:21', '02-12-2016 10:45',\n",
       "       '02-12-2016 11:14', '02-12-2016 13:02', '02-12-2016 14:49',\n",
       "       '02-12-2016 15:33', '2/13/2016 14:21', '2/14/2016 14:07',\n",
       "       '2/14/2016 14:46', '2/14/2016 16:35', '2/14/2016 17:06',\n",
       "       '2/16/2016 3:21', '2/16/2016 13:43', '2/16/2016 17:17',\n",
       "       '2/16/2016 17:40', '2/17/2016 13:18', '2/17/2016 15:17',\n",
       "       '2/17/2016 15:33', '2/17/2016 16:38', '2/18/2016 8:19',\n",
       "       '2/18/2016 14:03', '2/18/2016 15:16', '2/18/2016 18:44',\n",
       "       '2/18/2016 19:27', '2/19/2016 9:02', '2/19/2016 9:21',\n",
       "       '2/19/2016 10:21', '2/19/2016 12:09', '2/20/2016 14:50',\n",
       "       '2/20/2016 18:00', '2/20/2016 19:28', '2/21/2016 11:39',\n",
       "       '2/21/2016 11:47', '2/21/2016 12:13', '2/21/2016 12:51',\n",
       "       '2/21/2016 13:33', '2/21/2016 14:36', '2/21/2016 15:14',\n",
       "       '2/21/2016 15:36', '2/21/2016 23:15', '2/22/2016 21:54',\n",
       "       '2/24/2016 15:19', '2/25/2016 16:27', '2/25/2016 16:47',\n",
       "       '2/25/2016 17:16', '2/25/2016 18:22', '2/26/2016 11:35',\n",
       "       '2/26/2016 13:01', '2/28/2016 5:22', '2/28/2016 9:26',\n",
       "       '2/29/2016 11:30', '2/29/2016 12:36', '2/29/2016 16:40',\n",
       "       '03-01-2016 18:47', '03-01-2016 21:27', '03-03-2016 11:04',\n",
       "       '03-03-2016 14:44', '03-03-2016 15:27', '03-03-2016 16:02',\n",
       "       '03-04-2016 07:47', '03-04-2016 09:46', '03-04-2016 11:46',\n",
       "       '03-04-2016 13:03', '03-04-2016 13:40', '03-04-2016 15:56',\n",
       "       '03-04-2016 16:16', '03-04-2016 16:43', '03-04-2016 19:02',\n",
       "       '03-04-2016 19:16', '03-05-2016 11:44', '03-05-2016 14:39',\n",
       "       '03-05-2016 16:52', '03-05-2016 17:23', '03-07-2016 09:10',\n",
       "       '03-07-2016 09:23', '03-07-2016 12:10', '03-07-2016 13:57',\n",
       "       '03-07-2016 15:19', '03-08-2016 14:38', '03-08-2016 15:35',\n",
       "       '03-10-2016 03:36', '03-10-2016 10:08', '03-11-2016 09:47',\n",
       "       '3/13/2016 9:07', '3/13/2016 18:23', '3/13/2016 20:07',\n",
       "       '3/13/2016 20:39', '3/13/2016 21:11', '3/14/2016 8:34',\n",
       "       '3/15/2016 8:45', '3/15/2016 20:48', '3/16/2016 11:34',\n",
       "       '3/16/2016 18:43', '3/17/2016 12:52', '3/17/2016 15:16',\n",
       "       '3/17/2016 17:20', '3/18/2016 7:15', '3/18/2016 8:35',\n",
       "       '3/18/2016 18:24', '3/18/2016 19:23', '3/18/2016 21:01',\n",
       "       '3/19/2016 9:10', '3/19/2016 12:50', '3/19/2016 14:01',\n",
       "       '3/19/2016 15:34', '3/19/2016 17:17', '3/19/2016 17:37',\n",
       "       '3/19/2016 18:53', '3/19/2016 19:33', '3/20/2016 7:37',\n",
       "       '3/20/2016 11:42', '3/20/2016 18:45', '3/21/2016 16:05',\n",
       "       '3/21/2016 20:18', '3/22/2016 6:17', '3/25/2016 13:24',\n",
       "       '3/25/2016 16:52', '3/25/2016 22:54', '3/27/2016 0:31',\n",
       "       '3/27/2016 1:11', '3/27/2016 15:31', '3/30/2016 22:05',\n",
       "       '3/31/2016 12:47', '3/31/2016 14:37', '04-01-2016 13:43',\n",
       "       '04-01-2016 14:36', '04-01-2016 16:01', '04-02-2016 12:21',\n",
       "       '04-02-2016 16:57', '04-02-2016 19:38', '04-02-2016 23:11',\n",
       "       '04-03-2016 02:00', '04-05-2016 21:39', '04-06-2016 00:19',\n",
       "       '04-07-2016 18:20', '04-07-2016 19:45', '04-08-2016 12:30',\n",
       "       '04-08-2016 13:34', '04-08-2016 13:55', '04-08-2016 14:43',\n",
       "       '04-08-2016 16:05', '04-12-2016 09:15', '04-12-2016 09:34',\n",
       "       '04-12-2016 10:58', '04-12-2016 12:22', '04-12-2016 13:42',\n",
       "       '4/14/2016 7:29', '4/14/2016 16:00', '4/15/2016 11:36',\n",
       "       '4/15/2016 12:29', '4/15/2016 14:31', '4/16/2016 12:59',\n",
       "       '4/16/2016 15:10', '4/19/2016 17:44', '4/19/2016 19:57',\n",
       "       '4/22/2016 8:25', '4/22/2016 10:10', '4/22/2016 12:08',\n",
       "       '4/22/2016 13:02', '4/23/2016 17:03', '4/23/2016 18:49',\n",
       "       '4/24/2016 19:07', '4/24/2016 19:46', '4/24/2016 21:41',\n",
       "       '4/27/2016 13:30', '4/27/2016 14:13', '4/28/2016 12:09',\n",
       "       '4/28/2016 13:30', '4/28/2016 22:10', '4/29/2016 11:44',\n",
       "       '4/29/2016 13:13', '4/29/2016 18:46', '4/29/2016 22:44',\n",
       "       '4/30/2016 18:42', '05-01-2016 13:45', '05-01-2016 17:33',\n",
       "       '05-01-2016 17:54', '05-01-2016 22:38', '05-02-2016 14:14',\n",
       "       '05-02-2016 15:37', '05-03-2016 22:20', '05-04-2016 15:16',\n",
       "       '05-04-2016 20:55', '05-04-2016 21:30', '05-04-2016 22:19',\n",
       "       '05-05-2016 21:24', '05-05-2016 22:34', '05-05-2016 23:55',\n",
       "       '05-06-2016 05:47', '05-06-2016 16:45', '05-06-2016 17:18',\n",
       "       '05-09-2016 06:08', '05-09-2016 14:39', '05-09-2016 17:58',\n",
       "       '05-09-2016 19:35', '05-10-2016 09:03', '05-10-2016 17:19',\n",
       "       '05-11-2016 08:35', '05-11-2016 21:47', '5/14/2016 18:35',\n",
       "       '5/14/2016 23:01', '5/17/2016 13:15', '5/17/2016 13:56',\n",
       "       '5/17/2016 14:34', '5/18/2016 9:11', '5/18/2016 13:00',\n",
       "       '5/19/2016 14:37', '5/20/2016 10:56', '5/20/2016 15:43',\n",
       "       '5/22/2016 15:39', '5/22/2016 18:46', '5/23/2016 20:19',\n",
       "       '5/23/2016 21:09', '5/27/2016 20:26', '5/27/2016 22:11',\n",
       "       '5/28/2016 0:15', '5/28/2016 12:52', '5/28/2016 14:35',\n",
       "       '5/31/2016 13:54', '5/31/2016 16:02', '06-01-2016 10:19',\n",
       "       '06-01-2016 13:10', '06-03-2016 11:29', '06-03-2016 13:08',\n",
       "       '06-03-2016 15:31', '06-03-2016 18:14', '06-03-2016 18:41',\n",
       "       '06-03-2016 19:36', '06-03-2016 22:47', '06-05-2016 14:03',\n",
       "       '06-05-2016 15:06', '06-05-2016 15:57', '06-05-2016 18:05',\n",
       "       '06-05-2016 21:53', '06-05-2016 23:52', '06-06-2016 15:36',\n",
       "       '06-06-2016 16:16', '06-06-2016 20:06', '06-06-2016 21:08',\n",
       "       '06-06-2016 21:41', '06-06-2016 23:34', '06-07-2016 21:42',\n",
       "       '06-07-2016 23:41', '06-08-2016 08:23', '06-08-2016 12:04',\n",
       "       '06-08-2016 13:12', '06-08-2016 14:31', '06-08-2016 16:55',\n",
       "       '06-08-2016 17:16', '06-08-2016 17:59', '06-08-2016 20:11',\n",
       "       '06-10-2016 15:19', '06-10-2016 21:47', '06-10-2016 23:53',\n",
       "       '06-11-2016 17:08', '06-11-2016 17:34', '06-11-2016 21:45',\n",
       "       '06-11-2016 23:39', '06-12-2016 19:53', '06-12-2016 20:05',\n",
       "       '06-12-2016 21:58', '6/13/2016 5:23', '6/13/2016 14:17',\n",
       "       '6/13/2016 18:08', '6/13/2016 18:54', '6/13/2016 20:00',\n",
       "       '6/14/2016 16:09', '6/14/2016 17:15', '6/14/2016 17:27',\n",
       "       '6/15/2016 1:46', '6/15/2016 15:26', '6/15/2016 16:37',\n",
       "       '6/15/2016 19:52', '6/21/2016 17:11', '6/24/2016 10:41',\n",
       "       '6/24/2016 11:54', '6/24/2016 12:19', '6/24/2016 12:50',\n",
       "       '6/24/2016 13:18', '6/24/2016 14:01', '6/25/2016 9:15',\n",
       "       '6/25/2016 10:18', '6/25/2016 10:50', '6/25/2016 11:25',\n",
       "       '6/25/2016 11:53', '6/26/2016 17:43', '6/28/2016 0:48',\n",
       "       '6/28/2016 20:13', '6/28/2016 23:34', '6/29/2016 20:11',\n",
       "       '6/29/2016 23:38', '6/30/2016 20:09', '07-01-2016 00:00',\n",
       "       '07-01-2016 09:34', '07-01-2016 12:36', '07-01-2016 20:06',\n",
       "       '07-01-2016 23:48', '07-02-2016 20:18', '07-02-2016 23:48',\n",
       "       '07-03-2016 00:28', '07-03-2016 03:02', '07-03-2016 20:00',\n",
       "       '07-04-2016 00:32', '07-04-2016 17:31', '07-04-2016 18:23',\n",
       "       '07-04-2016 20:00', '07-05-2016 00:00', '07-05-2016 00:08',\n",
       "       '07-05-2016 16:48', '07-06-2016 00:33', '07-06-2016 09:06',\n",
       "       '07-06-2016 20:04', '07-06-2016 23:46', '07-07-2016 08:22',\n",
       "       '7/14/2016 16:03', '7/16/2016 22:50', '7/17/2016 11:23',\n",
       "       '7/17/2016 12:20', '7/18/2016 10:37', '7/18/2016 10:54',\n",
       "       '7/18/2016 11:25', '7/18/2016 11:40', '7/18/2016 17:12',\n",
       "       '7/18/2016 18:32', '7/18/2016 19:07', '7/18/2016 20:28',\n",
       "       '7/18/2016 21:11', '7/19/2016 10:35', '7/19/2016 10:56',\n",
       "       '7/19/2016 11:30', '7/19/2016 17:14', '7/22/2016 13:21',\n",
       "       '7/22/2016 14:27', '7/23/2016 20:17', '7/23/2016 23:18',\n",
       "       '7/26/2016 20:52', '7/26/2016 22:31', '7/29/2016 17:27',\n",
       "       '08-02-2016 08:11', '08-07-2016 17:28', '08-07-2016 20:15',\n",
       "       '08-08-2016 17:02', '08-08-2016 23:28', '8/13/2016 15:35',\n",
       "       '8/15/2016 19:08', '8/16/2016 11:47', '8/17/2016 18:38',\n",
       "       '8/18/2016 18:40', '8/21/2016 10:00', '8/29/2016 14:49',\n",
       "       '10-09-2016 14:04', '10-11-2016 01:27', '10/14/2016 23:54',\n",
       "       '10/16/2016 12:52', '10/16/2016 19:27', '10/16/2016 21:34',\n",
       "       '10/18/2016 10:41', '10/23/2016 19:04', '10/23/2016 21:10',\n",
       "       '10/25/2016 20:00', '10/25/2016 22:24', '10/26/2016 19:25',\n",
       "       '10/27/2016 18:51', '10/28/2016 11:34', '10/28/2016 13:06',\n",
       "       '10/28/2016 15:53', '10/28/2016 18:13', '10/28/2016 20:13',\n",
       "       '10/29/2016 15:22', '10/31/2016 21:45', '11-01-2016 20:41',\n",
       "       '11-02-2016 16:46', '11-03-2016 18:51', '11-03-2016 22:46',\n",
       "       '11-04-2016 10:02', '11-06-2016 16:05', '11-06-2016 16:27',\n",
       "       '11-07-2016 12:28', '11-07-2016 19:17', '11-08-2016 10:29',\n",
       "       '11-08-2016 12:16', '11-09-2016 18:21', '11-09-2016 18:40',\n",
       "       '11-10-2016 09:46', '11-10-2016 15:17', '11-10-2016 15:30',\n",
       "       '11-11-2016 09:35', '11-11-2016 14:39', '11-12-2016 14:22',\n",
       "       '11-12-2016 15:40', '11/13/2016 12:22', '11/14/2016 11:24',\n",
       "       '11/14/2016 13:40', '11/14/2016 20:19', '11/15/2016 14:09',\n",
       "       '11/15/2016 20:44', '11/16/2016 20:21', '11/16/2016 22:52',\n",
       "       '11/17/2016 10:13', '11/18/2016 20:09', '11/18/2016 21:23',\n",
       "       '11/18/2016 21:56', '11/19/2016 13:51', '11/19/2016 14:30',\n",
       "       '11/19/2016 17:41', '11/19/2016 21:14', '11/20/2016 10:27',\n",
       "       '11/20/2016 11:58', '11/20/2016 14:58', '11/20/2016 17:45',\n",
       "       '11/21/2016 13:37', '11/21/2016 14:34', '11/21/2016 17:50',\n",
       "       '11/21/2016 18:18', '11/21/2016 18:43', '11/22/2016 15:12',\n",
       "       '11/22/2016 15:31', '11/22/2016 15:51', '11/22/2016 18:18',\n",
       "       '11/22/2016 21:02', '11/23/2016 15:34', '11/25/2016 11:47',\n",
       "       '11/25/2016 13:13', '11/26/2016 17:00', '11/26/2016 17:36',\n",
       "       '11/26/2016 18:29', '11/26/2016 19:47', '11/27/2016 15:59',\n",
       "       '11/30/2016 11:03', '11/30/2016 11:53', '12-01-2016 07:44',\n",
       "       '12-01-2016 08:37', '12-01-2016 18:00', '12-01-2016 20:36',\n",
       "       '12-02-2016 12:12', '12-02-2016 13:07', '12-02-2016 20:41',\n",
       "       '12-02-2016 22:59', '12-03-2016 18:35', '12-03-2016 20:31',\n",
       "       '12-04-2016 18:56', '12-04-2016 20:23', '12-05-2016 19:22',\n",
       "       '12-07-2016 12:03', '12-07-2016 12:35', '12-07-2016 19:53',\n",
       "       '12-07-2016 21:13', '12-08-2016 14:19', '12-08-2016 14:53',\n",
       "       '12-08-2016 19:22', '12-08-2016 21:26', '12-09-2016 12:09',\n",
       "       '12-09-2016 13:15', '12-09-2016 20:11', '12-09-2016 22:03',\n",
       "       '12-10-2016 12:43', '12-10-2016 14:42', '12-10-2016 18:17',\n",
       "       '12-10-2016 22:09', '12-11-2016 16:06', '12-11-2016 19:05',\n",
       "       '12-11-2016 21:48', '12-12-2016 13:22', '12-12-2016 13:36',\n",
       "       '12-12-2016 14:26', '12-12-2016 17:51', '12-12-2016 20:48',\n",
       "       '12/13/2016 18:19', '12/13/2016 20:20', '12/14/2016 17:50',\n",
       "       '12/14/2016 20:24', '12/15/2016 14:20', '12/17/2016 15:38',\n",
       "       '12/17/2016 17:19', '12/18/2016 13:03', '12/18/2016 16:38',\n",
       "       '12/19/2016 9:08', '12/19/2016 10:15', '12/19/2016 13:04',\n",
       "       '12/19/2016 15:09', '12/19/2016 16:50', '12/19/2016 19:55',\n",
       "       '12/20/2016 10:30', '12/20/2016 11:30', '12/20/2016 13:14',\n",
       "       '12/20/2016 13:54', '12/20/2016 16:14', '12/20/2016 16:56',\n",
       "       '12/20/2016 18:47', '12/21/2016 7:42', '12/21/2016 10:14',\n",
       "       '12/21/2016 11:35', '12/21/2016 12:51', '12/21/2016 15:38',\n",
       "       '12/21/2016 15:55', '12/21/2016 17:45', '12/21/2016 17:59',\n",
       "       '12/21/2016 19:49', '12/21/2016 20:56', '12/22/2016 15:40',\n",
       "       '12/22/2016 17:04', '12/22/2016 17:27', '12/22/2016 17:56',\n",
       "       '12/22/2016 18:31', '12/22/2016 18:38', '12/22/2016 19:04',\n",
       "       '12/22/2016 21:41', '12/22/2016 23:27', '12/23/2016 9:21',\n",
       "       '12/23/2016 11:33', '12/23/2016 14:15', '12/23/2016 16:23',\n",
       "       '12/23/2016 17:34', '12/24/2016 7:43', '12/24/2016 9:19',\n",
       "       '12/24/2016 10:34', '12/24/2016 12:51', '12/24/2016 13:08',\n",
       "       '12/24/2016 17:12', '12/24/2016 19:12', '12/24/2016 22:04',\n",
       "       '12/25/2016 0:10', '12/25/2016 19:15', '12/25/2016 21:58',\n",
       "       '12/26/2016 8:30', '12/26/2016 9:05', '12/26/2016 10:15',\n",
       "       '12/26/2016 11:29', '12/26/2016 13:09', '12/27/2016 7:02',\n",
       "       '12/27/2016 8:37', '12/27/2016 12:53', '12/27/2016 14:49',\n",
       "       '12/27/2016 16:34', '12/27/2016 19:19', '12/28/2016 8:34',\n",
       "       '12/28/2016 11:42', '12/28/2016 13:53', '12/28/2016 15:04',\n",
       "       '12/28/2016 17:02', '12/28/2016 18:33', '12/28/2016 22:44',\n",
       "       '12/29/2016 0:49', '12/29/2016 9:44', '12/29/2016 11:28',\n",
       "       '12/29/2016 12:25', '12/29/2016 13:17', '12/29/2016 13:56',\n",
       "       '12/29/2016 14:42', '12/29/2016 15:05', '12/29/2016 18:59',\n",
       "       '12/29/2016 19:50', '12/29/2016 20:15', '12/29/2016 23:14',\n",
       "       '12/30/2016 10:15', '12/30/2016 11:31', '12/30/2016 15:41',\n",
       "       '12/30/2016 16:45', '12/30/2016 23:06', '12/31/2016 1:07',\n",
       "       '12/31/2016 13:24', '12/31/2016 15:03', '12/31/2016 21:32',\n",
       "       '12/31/2016 22:08'], dtype=object)"
      ]
     },
     "execution_count": 15,
     "metadata": {},
     "output_type": "execute_result"
    }
   ],
   "source": [
    "df['START_DATE*'].unique()"
   ]
  },
  {
   "cell_type": "markdown",
   "metadata": {},
   "source": [
    "# total number of unique start locations"
   ]
  },
  {
   "cell_type": "code",
   "execution_count": 16,
   "metadata": {},
   "outputs": [
    {
     "data": {
      "text/plain": [
       "652"
      ]
     },
     "execution_count": 16,
     "metadata": {},
     "output_type": "execute_result"
    }
   ],
   "source": [
    "df['START_DATE*'].nunique()"
   ]
  },
  {
   "cell_type": "markdown",
   "metadata": {},
   "source": [
    "# total number of unique stop locations"
   ]
  },
  {
   "cell_type": "code",
   "execution_count": 17,
   "metadata": {},
   "outputs": [
    {
     "data": {
      "text/plain": [
       "137"
      ]
     },
     "execution_count": 17,
     "metadata": {},
     "output_type": "execute_result"
    }
   ],
   "source": [
    "df['STOP*'].nunique()"
   ]
  },
  {
   "cell_type": "markdown",
   "metadata": {},
   "source": [
    "# The most popular starting point for the Uber drivers?"
   ]
  },
  {
   "cell_type": "code",
   "execution_count": 18,
   "metadata": {},
   "outputs": [
    {
     "data": {
      "text/plain": [
       "0            Fort Pierce\n",
       "2            Fort Pierce\n",
       "3            Fort Pierce\n",
       "4            Fort Pierce\n",
       "5        West Palm Beach\n",
       "              ...       \n",
       "1150             Karachi\n",
       "1151             Karachi\n",
       "1152    Unknown Location\n",
       "1153          Katunayake\n",
       "1154             Gampaha\n",
       "Name: START*, Length: 653, dtype: object"
      ]
     },
     "execution_count": 18,
     "metadata": {},
     "output_type": "execute_result"
    }
   ],
   "source": [
    "df['START*']"
   ]
  },
  {
   "cell_type": "code",
   "execution_count": 19,
   "metadata": {},
   "outputs": [
    {
     "name": "stdout",
     "output_type": "stream",
     "text": [
      "The place that is visited the most are: 0            Fort Pierce\n",
      "2            Fort Pierce\n",
      "3            Fort Pierce\n",
      "4            Fort Pierce\n",
      "5        West Palm Beach\n",
      "              ...       \n",
      "1150             Karachi\n",
      "1151             Karachi\n",
      "1152    Unknown Location\n",
      "1153          Katunayake\n",
      "1154             Gampaha\n",
      "Name: START*, Length: 653, dtype: object\n"
     ]
    }
   ],
   "source": [
    "print('The place that is visited the most are:',df['START*'])"
   ]
  },
  {
   "cell_type": "markdown",
   "metadata": {},
   "source": [
    "#  The most popular dropping point for the Uber drivers?"
   ]
  },
  {
   "cell_type": "code",
   "execution_count": 20,
   "metadata": {},
   "outputs": [
    {
     "data": {
      "text/plain": [
       "0            Fort Pierce\n",
       "2            Fort Pierce\n",
       "3            Fort Pierce\n",
       "4        West Palm Beach\n",
       "5        West Palm Beach\n",
       "              ...       \n",
       "1150             Karachi\n",
       "1151    Unknown Location\n",
       "1152    Unknown Location\n",
       "1153             Gampaha\n",
       "1154           Ilukwatta\n",
       "Name: STOP*, Length: 653, dtype: object"
      ]
     },
     "execution_count": 20,
     "metadata": {},
     "output_type": "execute_result"
    }
   ],
   "source": [
    "df['STOP*']"
   ]
  },
  {
   "cell_type": "code",
   "execution_count": 21,
   "metadata": {},
   "outputs": [
    {
     "name": "stdout",
     "output_type": "stream",
     "text": [
      "The place that is visited the most are: 0            Fort Pierce\n",
      "2            Fort Pierce\n",
      "3            Fort Pierce\n",
      "4        West Palm Beach\n",
      "5        West Palm Beach\n",
      "              ...       \n",
      "1150             Karachi\n",
      "1151    Unknown Location\n",
      "1152    Unknown Location\n",
      "1153             Gampaha\n",
      "1154           Ilukwatta\n",
      "Name: STOP*, Length: 653, dtype: object\n"
     ]
    }
   ],
   "source": [
    "print('The place that is visited the most are:',df['STOP*'])"
   ]
  },
  {
   "cell_type": "markdown",
   "metadata": {},
   "source": [
    "# List the most frequent route taken by Uber drivers."
   ]
  },
  {
   "cell_type": "code",
   "execution_count": 22,
   "metadata": {},
   "outputs": [
    {
     "name": "stdout",
     "output_type": "stream",
     "text": [
      "<pandas.core.groupby.generic.DataFrameGroupBy object at 0x000001B1E2BF3940>\n"
     ]
    }
   ],
   "source": [
    "grouped_data=df.groupby('START*')\n",
    "print(grouped_data)"
   ]
  },
  {
   "cell_type": "code",
   "execution_count": 23,
   "metadata": {},
   "outputs": [
    {
     "data": {
      "text/html": [
       "<div>\n",
       "<style scoped>\n",
       "    .dataframe tbody tr th:only-of-type {\n",
       "        vertical-align: middle;\n",
       "    }\n",
       "\n",
       "    .dataframe tbody tr th {\n",
       "        vertical-align: top;\n",
       "    }\n",
       "\n",
       "    .dataframe thead th {\n",
       "        text-align: right;\n",
       "    }\n",
       "</style>\n",
       "<table border=\"1\" class=\"dataframe\">\n",
       "  <thead>\n",
       "    <tr style=\"text-align: right;\">\n",
       "      <th></th>\n",
       "      <th></th>\n",
       "      <th>START_DATE*</th>\n",
       "      <th>END_DATE*</th>\n",
       "      <th>CATEGORY*</th>\n",
       "      <th>MILES*</th>\n",
       "      <th>PURPOSE*</th>\n",
       "    </tr>\n",
       "    <tr>\n",
       "      <th>START*</th>\n",
       "      <th>STOP*</th>\n",
       "      <th></th>\n",
       "      <th></th>\n",
       "      <th></th>\n",
       "      <th></th>\n",
       "      <th></th>\n",
       "    </tr>\n",
       "  </thead>\n",
       "  <tbody>\n",
       "    <tr>\n",
       "      <th>Metairie</th>\n",
       "      <th>New Orleans</th>\n",
       "      <td>1</td>\n",
       "      <td>1</td>\n",
       "      <td>1</td>\n",
       "      <td>1</td>\n",
       "      <td>1</td>\n",
       "    </tr>\n",
       "  </tbody>\n",
       "</table>\n",
       "</div>"
      ],
      "text/plain": [
       "                      START_DATE*  END_DATE*  CATEGORY*  MILES*  PURPOSE*\n",
       "START*   STOP*                                                           \n",
       "Metairie New Orleans            1          1          1       1         1"
      ]
     },
     "execution_count": 23,
     "metadata": {},
     "output_type": "execute_result"
    }
   ],
   "source": [
    "df.dropna().groupby(['START*','STOP*']).count().sort_values(by=['MILES*']).head(1) "
   ]
  },
  {
   "cell_type": "code",
   "execution_count": 24,
   "metadata": {},
   "outputs": [
    {
     "data": {
      "text/html": [
       "<div>\n",
       "<style scoped>\n",
       "    .dataframe tbody tr th:only-of-type {\n",
       "        vertical-align: middle;\n",
       "    }\n",
       "\n",
       "    .dataframe tbody tr th {\n",
       "        vertical-align: top;\n",
       "    }\n",
       "\n",
       "    .dataframe thead th {\n",
       "        text-align: right;\n",
       "    }\n",
       "</style>\n",
       "<table border=\"1\" class=\"dataframe\">\n",
       "  <thead>\n",
       "    <tr style=\"text-align: right;\">\n",
       "      <th></th>\n",
       "      <th></th>\n",
       "      <th>START_DATE*</th>\n",
       "      <th>END_DATE*</th>\n",
       "      <th>CATEGORY*</th>\n",
       "      <th>MILES*</th>\n",
       "      <th>PURPOSE*</th>\n",
       "    </tr>\n",
       "    <tr>\n",
       "      <th>START*</th>\n",
       "      <th>STOP*</th>\n",
       "      <th></th>\n",
       "      <th></th>\n",
       "      <th></th>\n",
       "      <th></th>\n",
       "      <th></th>\n",
       "    </tr>\n",
       "  </thead>\n",
       "  <tbody>\n",
       "    <tr>\n",
       "      <th>Cary</th>\n",
       "      <th>Morrisville</th>\n",
       "      <td>52</td>\n",
       "      <td>52</td>\n",
       "      <td>52</td>\n",
       "      <td>52</td>\n",
       "      <td>52</td>\n",
       "    </tr>\n",
       "  </tbody>\n",
       "</table>\n",
       "</div>"
      ],
      "text/plain": [
       "                    START_DATE*  END_DATE*  CATEGORY*  MILES*  PURPOSE*\n",
       "START* STOP*                                                           \n",
       "Cary   Morrisville           52         52         52      52        52"
      ]
     },
     "execution_count": 24,
     "metadata": {},
     "output_type": "execute_result"
    }
   ],
   "source": [
    "df.dropna().groupby(['START*','STOP*']).count().sort_values(by=['MILES*'],ascending=False).head(1) "
   ]
  },
  {
   "cell_type": "code",
   "execution_count": 25,
   "metadata": {},
   "outputs": [
    {
     "data": {
      "text/html": [
       "<div>\n",
       "<style scoped>\n",
       "    .dataframe tbody tr th:only-of-type {\n",
       "        vertical-align: middle;\n",
       "    }\n",
       "\n",
       "    .dataframe tbody tr th {\n",
       "        vertical-align: top;\n",
       "    }\n",
       "\n",
       "    .dataframe thead th {\n",
       "        text-align: right;\n",
       "    }\n",
       "</style>\n",
       "<table border=\"1\" class=\"dataframe\">\n",
       "  <thead>\n",
       "    <tr style=\"text-align: right;\">\n",
       "      <th></th>\n",
       "      <th></th>\n",
       "      <th>START_DATE*</th>\n",
       "      <th>END_DATE*</th>\n",
       "      <th>CATEGORY*</th>\n",
       "      <th>MILES*</th>\n",
       "      <th>PURPOSE*</th>\n",
       "    </tr>\n",
       "    <tr>\n",
       "      <th>START*</th>\n",
       "      <th>STOP*</th>\n",
       "      <th></th>\n",
       "      <th></th>\n",
       "      <th></th>\n",
       "      <th></th>\n",
       "      <th></th>\n",
       "    </tr>\n",
       "  </thead>\n",
       "  <tbody>\n",
       "    <tr>\n",
       "      <th>Apex</th>\n",
       "      <th>Cary</th>\n",
       "      <td>10</td>\n",
       "      <td>10</td>\n",
       "      <td>10</td>\n",
       "      <td>10</td>\n",
       "      <td>10</td>\n",
       "    </tr>\n",
       "  </tbody>\n",
       "</table>\n",
       "</div>"
      ],
      "text/plain": [
       "              START_DATE*  END_DATE*  CATEGORY*  MILES*  PURPOSE*\n",
       "START* STOP*                                                     \n",
       "Apex   Cary            10         10         10      10        10"
      ]
     },
     "execution_count": 25,
     "metadata": {},
     "output_type": "execute_result"
    }
   ],
   "source": [
    "df.dropna().groupby(['START*','STOP*']).count().head(1)"
   ]
  },
  {
   "cell_type": "code",
   "execution_count": 26,
   "metadata": {},
   "outputs": [
    {
     "data": {
      "text/html": [
       "<div>\n",
       "<style scoped>\n",
       "    .dataframe tbody tr th:only-of-type {\n",
       "        vertical-align: middle;\n",
       "    }\n",
       "\n",
       "    .dataframe tbody tr th {\n",
       "        vertical-align: top;\n",
       "    }\n",
       "\n",
       "    .dataframe thead tr th {\n",
       "        text-align: left;\n",
       "    }\n",
       "\n",
       "    .dataframe thead tr:last-of-type th {\n",
       "        text-align: right;\n",
       "    }\n",
       "</style>\n",
       "<table border=\"1\" class=\"dataframe\">\n",
       "  <thead>\n",
       "    <tr>\n",
       "      <th></th>\n",
       "      <th colspan=\"8\" halign=\"left\">MILES*</th>\n",
       "    </tr>\n",
       "    <tr>\n",
       "      <th></th>\n",
       "      <th>count</th>\n",
       "      <th>mean</th>\n",
       "      <th>std</th>\n",
       "      <th>min</th>\n",
       "      <th>25%</th>\n",
       "      <th>50%</th>\n",
       "      <th>75%</th>\n",
       "      <th>max</th>\n",
       "    </tr>\n",
       "    <tr>\n",
       "      <th>START*</th>\n",
       "      <th></th>\n",
       "      <th></th>\n",
       "      <th></th>\n",
       "      <th></th>\n",
       "      <th></th>\n",
       "      <th></th>\n",
       "      <th></th>\n",
       "      <th></th>\n",
       "    </tr>\n",
       "  </thead>\n",
       "  <tbody>\n",
       "    <tr>\n",
       "      <th>Apex</th>\n",
       "      <td>11.0</td>\n",
       "      <td>6.218182</td>\n",
       "      <td>1.453835</td>\n",
       "      <td>4.7</td>\n",
       "      <td>5.450</td>\n",
       "      <td>5.60</td>\n",
       "      <td>6.450</td>\n",
       "      <td>9.0</td>\n",
       "    </tr>\n",
       "    <tr>\n",
       "      <th>Arabi</th>\n",
       "      <td>1.0</td>\n",
       "      <td>17.000000</td>\n",
       "      <td>NaN</td>\n",
       "      <td>17.0</td>\n",
       "      <td>17.000</td>\n",
       "      <td>17.00</td>\n",
       "      <td>17.000</td>\n",
       "      <td>17.0</td>\n",
       "    </tr>\n",
       "    <tr>\n",
       "      <th>Asheville</th>\n",
       "      <td>1.0</td>\n",
       "      <td>91.800000</td>\n",
       "      <td>NaN</td>\n",
       "      <td>91.8</td>\n",
       "      <td>91.800</td>\n",
       "      <td>91.80</td>\n",
       "      <td>91.800</td>\n",
       "      <td>91.8</td>\n",
       "    </tr>\n",
       "    <tr>\n",
       "      <th>Austin</th>\n",
       "      <td>1.0</td>\n",
       "      <td>136.000000</td>\n",
       "      <td>NaN</td>\n",
       "      <td>136.0</td>\n",
       "      <td>136.000</td>\n",
       "      <td>136.00</td>\n",
       "      <td>136.000</td>\n",
       "      <td>136.0</td>\n",
       "    </tr>\n",
       "    <tr>\n",
       "      <th>Banner Elk</th>\n",
       "      <td>2.0</td>\n",
       "      <td>9.750000</td>\n",
       "      <td>7.566043</td>\n",
       "      <td>4.4</td>\n",
       "      <td>7.075</td>\n",
       "      <td>9.75</td>\n",
       "      <td>12.425</td>\n",
       "      <td>15.1</td>\n",
       "    </tr>\n",
       "    <tr>\n",
       "      <th>...</th>\n",
       "      <td>...</td>\n",
       "      <td>...</td>\n",
       "      <td>...</td>\n",
       "      <td>...</td>\n",
       "      <td>...</td>\n",
       "      <td>...</td>\n",
       "      <td>...</td>\n",
       "      <td>...</td>\n",
       "    </tr>\n",
       "    <tr>\n",
       "      <th>West University</th>\n",
       "      <td>1.0</td>\n",
       "      <td>2.100000</td>\n",
       "      <td>NaN</td>\n",
       "      <td>2.1</td>\n",
       "      <td>2.100</td>\n",
       "      <td>2.10</td>\n",
       "      <td>2.100</td>\n",
       "      <td>2.1</td>\n",
       "    </tr>\n",
       "    <tr>\n",
       "      <th>Weston</th>\n",
       "      <td>1.0</td>\n",
       "      <td>3.800000</td>\n",
       "      <td>NaN</td>\n",
       "      <td>3.8</td>\n",
       "      <td>3.800</td>\n",
       "      <td>3.80</td>\n",
       "      <td>3.800</td>\n",
       "      <td>3.8</td>\n",
       "    </tr>\n",
       "    <tr>\n",
       "      <th>Westpark Place</th>\n",
       "      <td>5.0</td>\n",
       "      <td>2.420000</td>\n",
       "      <td>0.852643</td>\n",
       "      <td>1.8</td>\n",
       "      <td>1.900</td>\n",
       "      <td>2.20</td>\n",
       "      <td>2.300</td>\n",
       "      <td>3.9</td>\n",
       "    </tr>\n",
       "    <tr>\n",
       "      <th>Whitebridge</th>\n",
       "      <td>36.0</td>\n",
       "      <td>5.050000</td>\n",
       "      <td>2.469991</td>\n",
       "      <td>0.6</td>\n",
       "      <td>2.800</td>\n",
       "      <td>4.70</td>\n",
       "      <td>7.700</td>\n",
       "      <td>9.0</td>\n",
       "    </tr>\n",
       "    <tr>\n",
       "      <th>Winston Salem</th>\n",
       "      <td>1.0</td>\n",
       "      <td>133.600000</td>\n",
       "      <td>NaN</td>\n",
       "      <td>133.6</td>\n",
       "      <td>133.600</td>\n",
       "      <td>133.60</td>\n",
       "      <td>133.600</td>\n",
       "      <td>133.6</td>\n",
       "    </tr>\n",
       "  </tbody>\n",
       "</table>\n",
       "<p>131 rows × 8 columns</p>\n",
       "</div>"
      ],
      "text/plain": [
       "                MILES*                                                         \\\n",
       "                 count        mean       std    min      25%     50%      75%   \n",
       "START*                                                                          \n",
       "Apex              11.0    6.218182  1.453835    4.7    5.450    5.60    6.450   \n",
       "Arabi              1.0   17.000000       NaN   17.0   17.000   17.00   17.000   \n",
       "Asheville          1.0   91.800000       NaN   91.8   91.800   91.80   91.800   \n",
       "Austin             1.0  136.000000       NaN  136.0  136.000  136.00  136.000   \n",
       "Banner Elk         2.0    9.750000  7.566043    4.4    7.075    9.75   12.425   \n",
       "...                ...         ...       ...    ...      ...     ...      ...   \n",
       "West University    1.0    2.100000       NaN    2.1    2.100    2.10    2.100   \n",
       "Weston             1.0    3.800000       NaN    3.8    3.800    3.80    3.800   \n",
       "Westpark Place     5.0    2.420000  0.852643    1.8    1.900    2.20    2.300   \n",
       "Whitebridge       36.0    5.050000  2.469991    0.6    2.800    4.70    7.700   \n",
       "Winston Salem      1.0  133.600000       NaN  133.6  133.600  133.60  133.600   \n",
       "\n",
       "                        \n",
       "                   max  \n",
       "START*                  \n",
       "Apex               9.0  \n",
       "Arabi             17.0  \n",
       "Asheville         91.8  \n",
       "Austin           136.0  \n",
       "Banner Elk        15.1  \n",
       "...                ...  \n",
       "West University    2.1  \n",
       "Weston             3.8  \n",
       "Westpark Place     3.9  \n",
       "Whitebridge        9.0  \n",
       "Winston Salem    133.6  \n",
       "\n",
       "[131 rows x 8 columns]"
      ]
     },
     "execution_count": 26,
     "metadata": {},
     "output_type": "execute_result"
    }
   ],
   "source": [
    "grouped_data.describe()"
   ]
  },
  {
   "cell_type": "markdown",
   "metadata": {},
   "source": [
    "#  Plot a bar graph of Purpose vs Miles(Distance). "
   ]
  },
  {
   "cell_type": "code",
   "execution_count": 27,
   "metadata": {},
   "outputs": [
    {
     "data": {
      "text/html": [
       "<div>\n",
       "<style scoped>\n",
       "    .dataframe tbody tr th:only-of-type {\n",
       "        vertical-align: middle;\n",
       "    }\n",
       "\n",
       "    .dataframe tbody tr th {\n",
       "        vertical-align: top;\n",
       "    }\n",
       "\n",
       "    .dataframe thead th {\n",
       "        text-align: right;\n",
       "    }\n",
       "</style>\n",
       "<table border=\"1\" class=\"dataframe\">\n",
       "  <thead>\n",
       "    <tr style=\"text-align: right;\">\n",
       "      <th></th>\n",
       "      <th>START_DATE*</th>\n",
       "      <th>END_DATE*</th>\n",
       "      <th>CATEGORY*</th>\n",
       "      <th>START*</th>\n",
       "      <th>STOP*</th>\n",
       "      <th>MILES*</th>\n",
       "      <th>PURPOSE*</th>\n",
       "    </tr>\n",
       "  </thead>\n",
       "  <tbody>\n",
       "    <tr>\n",
       "      <th>0</th>\n",
       "      <td>01-01-2016 21:11</td>\n",
       "      <td>01-01-2016 21:17</td>\n",
       "      <td>Business</td>\n",
       "      <td>Fort Pierce</td>\n",
       "      <td>Fort Pierce</td>\n",
       "      <td>5.1</td>\n",
       "      <td>Meal/Entertain</td>\n",
       "    </tr>\n",
       "    <tr>\n",
       "      <th>2</th>\n",
       "      <td>01-02-2016 20:25</td>\n",
       "      <td>01-02-2016 20:38</td>\n",
       "      <td>Business</td>\n",
       "      <td>Fort Pierce</td>\n",
       "      <td>Fort Pierce</td>\n",
       "      <td>4.8</td>\n",
       "      <td>Errand/Supplies</td>\n",
       "    </tr>\n",
       "    <tr>\n",
       "      <th>3</th>\n",
       "      <td>01-05-2016 17:31</td>\n",
       "      <td>01-05-2016 17:45</td>\n",
       "      <td>Business</td>\n",
       "      <td>Fort Pierce</td>\n",
       "      <td>Fort Pierce</td>\n",
       "      <td>4.7</td>\n",
       "      <td>Meeting</td>\n",
       "    </tr>\n",
       "    <tr>\n",
       "      <th>4</th>\n",
       "      <td>01-06-2016 14:42</td>\n",
       "      <td>01-06-2016 15:49</td>\n",
       "      <td>Business</td>\n",
       "      <td>Fort Pierce</td>\n",
       "      <td>West Palm Beach</td>\n",
       "      <td>63.7</td>\n",
       "      <td>Customer Visit</td>\n",
       "    </tr>\n",
       "    <tr>\n",
       "      <th>5</th>\n",
       "      <td>01-06-2016 17:15</td>\n",
       "      <td>01-06-2016 17:19</td>\n",
       "      <td>Business</td>\n",
       "      <td>West Palm Beach</td>\n",
       "      <td>West Palm Beach</td>\n",
       "      <td>4.3</td>\n",
       "      <td>Meal/Entertain</td>\n",
       "    </tr>\n",
       "  </tbody>\n",
       "</table>\n",
       "</div>"
      ],
      "text/plain": [
       "        START_DATE*         END_DATE* CATEGORY*           START*  \\\n",
       "0  01-01-2016 21:11  01-01-2016 21:17  Business      Fort Pierce   \n",
       "2  01-02-2016 20:25  01-02-2016 20:38  Business      Fort Pierce   \n",
       "3  01-05-2016 17:31  01-05-2016 17:45  Business      Fort Pierce   \n",
       "4  01-06-2016 14:42  01-06-2016 15:49  Business      Fort Pierce   \n",
       "5  01-06-2016 17:15  01-06-2016 17:19  Business  West Palm Beach   \n",
       "\n",
       "             STOP*  MILES*         PURPOSE*  \n",
       "0      Fort Pierce     5.1   Meal/Entertain  \n",
       "2      Fort Pierce     4.8  Errand/Supplies  \n",
       "3      Fort Pierce     4.7          Meeting  \n",
       "4  West Palm Beach    63.7   Customer Visit  \n",
       "5  West Palm Beach     4.3   Meal/Entertain  "
      ]
     },
     "execution_count": 27,
     "metadata": {},
     "output_type": "execute_result"
    }
   ],
   "source": [
    "df.head()"
   ]
  },
  {
   "cell_type": "code",
   "execution_count": 28,
   "metadata": {},
   "outputs": [
    {
     "data": {
      "text/plain": [
       "<matplotlib.axes._subplots.AxesSubplot at 0x1b1e2c15fd0>"
      ]
     },
     "execution_count": 28,
     "metadata": {},
     "output_type": "execute_result"
    },
    {
     "data": {
      "image/png": "[encoded data removed]",
      "text/plain": [
       "<Figure size 432x288 with 1 Axes>"
      ]
     },
     "metadata": {
      "needs_background": "light"
     },
     "output_type": "display_data"
    }
   ],
   "source": [
    "sns.barplot(y='PURPOSE*',x='MILES*',estimator=np.sum,data=df,ci=None)"
   ]
  },
  {
   "cell_type": "markdown",
   "metadata": {},
   "source": [
    "#  Distance travelled for that particular Purpose"
   ]
  },
  {
   "cell_type": "code",
   "execution_count": 29,
   "metadata": {},
   "outputs": [
    {
     "data": {
      "text/html": [
       "<div>\n",
       "<style scoped>\n",
       "    .dataframe tbody tr th:only-of-type {\n",
       "        vertical-align: middle;\n",
       "    }\n",
       "\n",
       "    .dataframe tbody tr th {\n",
       "        vertical-align: top;\n",
       "    }\n",
       "\n",
       "    .dataframe thead th {\n",
       "        text-align: right;\n",
       "    }\n",
       "</style>\n",
       "<table border=\"1\" class=\"dataframe\">\n",
       "  <thead>\n",
       "    <tr style=\"text-align: right;\">\n",
       "      <th></th>\n",
       "      <th>PURPOSE*</th>\n",
       "      <th>MILES*</th>\n",
       "    </tr>\n",
       "  </thead>\n",
       "  <tbody>\n",
       "    <tr>\n",
       "      <th>0</th>\n",
       "      <td>Meal/Entertain</td>\n",
       "      <td>5.1</td>\n",
       "    </tr>\n",
       "    <tr>\n",
       "      <th>2</th>\n",
       "      <td>Errand/Supplies</td>\n",
       "      <td>4.8</td>\n",
       "    </tr>\n",
       "    <tr>\n",
       "      <th>3</th>\n",
       "      <td>Meeting</td>\n",
       "      <td>4.7</td>\n",
       "    </tr>\n",
       "    <tr>\n",
       "      <th>4</th>\n",
       "      <td>Customer Visit</td>\n",
       "      <td>63.7</td>\n",
       "    </tr>\n",
       "    <tr>\n",
       "      <th>5</th>\n",
       "      <td>Meal/Entertain</td>\n",
       "      <td>4.3</td>\n",
       "    </tr>\n",
       "  </tbody>\n",
       "</table>\n",
       "</div>"
      ],
      "text/plain": [
       "          PURPOSE*  MILES*\n",
       "0   Meal/Entertain     5.1\n",
       "2  Errand/Supplies     4.8\n",
       "3          Meeting     4.7\n",
       "4   Customer Visit    63.7\n",
       "5   Meal/Entertain     4.3"
      ]
     },
     "execution_count": 29,
     "metadata": {},
     "output_type": "execute_result"
    }
   ],
   "source": [
    "df[['PURPOSE*','MILES*']].head()"
   ]
  },
  {
   "cell_type": "markdown",
   "metadata": {},
   "source": [
    "# Plot number of trips vs Category of trips."
   ]
  },
  {
   "cell_type": "code",
   "execution_count": 30,
   "metadata": {},
   "outputs": [
    {
     "data": {
      "text/html": [
       "<div>\n",
       "<style scoped>\n",
       "    .dataframe tbody tr th:only-of-type {\n",
       "        vertical-align: middle;\n",
       "    }\n",
       "\n",
       "    .dataframe tbody tr th {\n",
       "        vertical-align: top;\n",
       "    }\n",
       "\n",
       "    .dataframe thead th {\n",
       "        text-align: right;\n",
       "    }\n",
       "</style>\n",
       "<table border=\"1\" class=\"dataframe\">\n",
       "  <thead>\n",
       "    <tr style=\"text-align: right;\">\n",
       "      <th></th>\n",
       "      <th>START_DATE*</th>\n",
       "      <th>END_DATE*</th>\n",
       "      <th>CATEGORY*</th>\n",
       "      <th>START*</th>\n",
       "      <th>STOP*</th>\n",
       "      <th>MILES*</th>\n",
       "      <th>PURPOSE*</th>\n",
       "    </tr>\n",
       "  </thead>\n",
       "  <tbody>\n",
       "    <tr>\n",
       "      <th>0</th>\n",
       "      <td>01-01-2016 21:11</td>\n",
       "      <td>01-01-2016 21:17</td>\n",
       "      <td>Business</td>\n",
       "      <td>Fort Pierce</td>\n",
       "      <td>Fort Pierce</td>\n",
       "      <td>5.1</td>\n",
       "      <td>Meal/Entertain</td>\n",
       "    </tr>\n",
       "    <tr>\n",
       "      <th>2</th>\n",
       "      <td>01-02-2016 20:25</td>\n",
       "      <td>01-02-2016 20:38</td>\n",
       "      <td>Business</td>\n",
       "      <td>Fort Pierce</td>\n",
       "      <td>Fort Pierce</td>\n",
       "      <td>4.8</td>\n",
       "      <td>Errand/Supplies</td>\n",
       "    </tr>\n",
       "    <tr>\n",
       "      <th>3</th>\n",
       "      <td>01-05-2016 17:31</td>\n",
       "      <td>01-05-2016 17:45</td>\n",
       "      <td>Business</td>\n",
       "      <td>Fort Pierce</td>\n",
       "      <td>Fort Pierce</td>\n",
       "      <td>4.7</td>\n",
       "      <td>Meeting</td>\n",
       "    </tr>\n",
       "    <tr>\n",
       "      <th>4</th>\n",
       "      <td>01-06-2016 14:42</td>\n",
       "      <td>01-06-2016 15:49</td>\n",
       "      <td>Business</td>\n",
       "      <td>Fort Pierce</td>\n",
       "      <td>West Palm Beach</td>\n",
       "      <td>63.7</td>\n",
       "      <td>Customer Visit</td>\n",
       "    </tr>\n",
       "    <tr>\n",
       "      <th>5</th>\n",
       "      <td>01-06-2016 17:15</td>\n",
       "      <td>01-06-2016 17:19</td>\n",
       "      <td>Business</td>\n",
       "      <td>West Palm Beach</td>\n",
       "      <td>West Palm Beach</td>\n",
       "      <td>4.3</td>\n",
       "      <td>Meal/Entertain</td>\n",
       "    </tr>\n",
       "  </tbody>\n",
       "</table>\n",
       "</div>"
      ],
      "text/plain": [
       "        START_DATE*         END_DATE* CATEGORY*           START*  \\\n",
       "0  01-01-2016 21:11  01-01-2016 21:17  Business      Fort Pierce   \n",
       "2  01-02-2016 20:25  01-02-2016 20:38  Business      Fort Pierce   \n",
       "3  01-05-2016 17:31  01-05-2016 17:45  Business      Fort Pierce   \n",
       "4  01-06-2016 14:42  01-06-2016 15:49  Business      Fort Pierce   \n",
       "5  01-06-2016 17:15  01-06-2016 17:19  Business  West Palm Beach   \n",
       "\n",
       "             STOP*  MILES*         PURPOSE*  \n",
       "0      Fort Pierce     5.1   Meal/Entertain  \n",
       "2      Fort Pierce     4.8  Errand/Supplies  \n",
       "3      Fort Pierce     4.7          Meeting  \n",
       "4  West Palm Beach    63.7   Customer Visit  \n",
       "5  West Palm Beach     4.3   Meal/Entertain  "
      ]
     },
     "execution_count": 30,
     "metadata": {},
     "output_type": "execute_result"
    }
   ],
   "source": [
    "df.head()"
   ]
  },
  {
   "cell_type": "code",
   "execution_count": 31,
   "metadata": {},
   "outputs": [
    {
     "data": {
      "text/plain": [
       "<matplotlib.axes._subplots.AxesSubplot at 0x1b1e339b5e0>"
      ]
     },
     "execution_count": 31,
     "metadata": {},
     "output_type": "execute_result"
    },
    {
     "data": {
      "image/png": "[encoded data removed]",
      "text/plain": [
       "<Figure size 432x288 with 1 Axes>"
      ]
     },
     "metadata": {
      "needs_background": "light"
     },
     "output_type": "display_data"
    }
   ],
   "source": [
    "sns.countplot(df['CATEGORY*'])"
   ]
  },
  {
   "cell_type": "markdown",
   "metadata": {},
   "source": [
    "# Proportion of miles that are covered as Business trips and what is the proportion of miles that are covered as Personal trips? "
   ]
  },
  {
   "cell_type": "code",
   "execution_count": 32,
   "metadata": {},
   "outputs": [
    {
     "data": {
      "text/html": [
       "<div>\n",
       "<style scoped>\n",
       "    .dataframe tbody tr th:only-of-type {\n",
       "        vertical-align: middle;\n",
       "    }\n",
       "\n",
       "    .dataframe tbody tr th {\n",
       "        vertical-align: top;\n",
       "    }\n",
       "\n",
       "    .dataframe thead th {\n",
       "        text-align: right;\n",
       "    }\n",
       "</style>\n",
       "<table border=\"1\" class=\"dataframe\">\n",
       "  <thead>\n",
       "    <tr style=\"text-align: right;\">\n",
       "      <th></th>\n",
       "      <th>START_DATE*</th>\n",
       "      <th>END_DATE*</th>\n",
       "      <th>CATEGORY*</th>\n",
       "      <th>START*</th>\n",
       "      <th>STOP*</th>\n",
       "      <th>MILES*</th>\n",
       "      <th>PURPOSE*</th>\n",
       "    </tr>\n",
       "  </thead>\n",
       "  <tbody>\n",
       "    <tr>\n",
       "      <th>0</th>\n",
       "      <td>01-01-2016 21:11</td>\n",
       "      <td>01-01-2016 21:17</td>\n",
       "      <td>Business</td>\n",
       "      <td>Fort Pierce</td>\n",
       "      <td>Fort Pierce</td>\n",
       "      <td>5.1</td>\n",
       "      <td>Meal/Entertain</td>\n",
       "    </tr>\n",
       "    <tr>\n",
       "      <th>2</th>\n",
       "      <td>01-02-2016 20:25</td>\n",
       "      <td>01-02-2016 20:38</td>\n",
       "      <td>Business</td>\n",
       "      <td>Fort Pierce</td>\n",
       "      <td>Fort Pierce</td>\n",
       "      <td>4.8</td>\n",
       "      <td>Errand/Supplies</td>\n",
       "    </tr>\n",
       "    <tr>\n",
       "      <th>3</th>\n",
       "      <td>01-05-2016 17:31</td>\n",
       "      <td>01-05-2016 17:45</td>\n",
       "      <td>Business</td>\n",
       "      <td>Fort Pierce</td>\n",
       "      <td>Fort Pierce</td>\n",
       "      <td>4.7</td>\n",
       "      <td>Meeting</td>\n",
       "    </tr>\n",
       "    <tr>\n",
       "      <th>4</th>\n",
       "      <td>01-06-2016 14:42</td>\n",
       "      <td>01-06-2016 15:49</td>\n",
       "      <td>Business</td>\n",
       "      <td>Fort Pierce</td>\n",
       "      <td>West Palm Beach</td>\n",
       "      <td>63.7</td>\n",
       "      <td>Customer Visit</td>\n",
       "    </tr>\n",
       "    <tr>\n",
       "      <th>5</th>\n",
       "      <td>01-06-2016 17:15</td>\n",
       "      <td>01-06-2016 17:19</td>\n",
       "      <td>Business</td>\n",
       "      <td>West Palm Beach</td>\n",
       "      <td>West Palm Beach</td>\n",
       "      <td>4.3</td>\n",
       "      <td>Meal/Entertain</td>\n",
       "    </tr>\n",
       "  </tbody>\n",
       "</table>\n",
       "</div>"
      ],
      "text/plain": [
       "        START_DATE*         END_DATE* CATEGORY*           START*  \\\n",
       "0  01-01-2016 21:11  01-01-2016 21:17  Business      Fort Pierce   \n",
       "2  01-02-2016 20:25  01-02-2016 20:38  Business      Fort Pierce   \n",
       "3  01-05-2016 17:31  01-05-2016 17:45  Business      Fort Pierce   \n",
       "4  01-06-2016 14:42  01-06-2016 15:49  Business      Fort Pierce   \n",
       "5  01-06-2016 17:15  01-06-2016 17:19  Business  West Palm Beach   \n",
       "\n",
       "             STOP*  MILES*         PURPOSE*  \n",
       "0      Fort Pierce     5.1   Meal/Entertain  \n",
       "2      Fort Pierce     4.8  Errand/Supplies  \n",
       "3      Fort Pierce     4.7          Meeting  \n",
       "4  West Palm Beach    63.7   Customer Visit  \n",
       "5  West Palm Beach     4.3   Meal/Entertain  "
      ]
     },
     "execution_count": 32,
     "metadata": {},
     "output_type": "execute_result"
    }
   ],
   "source": [
    "df.head()"
   ]
  },
  {
   "cell_type": "code",
   "execution_count": 33,
   "metadata": {},
   "outputs": [
    {
     "data": {
      "text/plain": [
       "<bound method NDFrame.describe of 0       Business\n",
       "2       Business\n",
       "3       Business\n",
       "4       Business\n",
       "5       Business\n",
       "          ...   \n",
       "1150    Business\n",
       "1151    Business\n",
       "1152    Business\n",
       "1153    Business\n",
       "1154    Business\n",
       "Name: CATEGORY*, Length: 653, dtype: object>"
      ]
     },
     "execution_count": 33,
     "metadata": {},
     "output_type": "execute_result"
    }
   ],
   "source": [
    "df['CATEGORY*'].describe"
   ]
  },
  {
   "cell_type": "code",
   "execution_count": 34,
   "metadata": {},
   "outputs": [],
   "source": [
    "df['Proportion_Miles']=df[\"MILES*\"]*100"
   ]
  },
  {
   "cell_type": "code",
   "execution_count": 35,
   "metadata": {},
   "outputs": [
    {
     "data": {
      "text/plain": [
       "7311.200000000001"
      ]
     },
     "execution_count": 35,
     "metadata": {},
     "output_type": "execute_result"
    }
   ],
   "source": [
    "df['MILES*'].sum()"
   ]
  },
  {
   "cell_type": "code",
   "execution_count": 36,
   "metadata": {},
   "outputs": [
    {
     "data": {
      "text/plain": [
       "array(['Business', 'Personal'], dtype=object)"
      ]
     },
     "execution_count": 36,
     "metadata": {},
     "output_type": "execute_result"
    }
   ],
   "source": [
    "df['CATEGORY*'].unique()"
   ]
  },
  {
   "cell_type": "code",
   "execution_count": 37,
   "metadata": {},
   "outputs": [
    {
     "data": {
      "text/plain": [
       "2"
      ]
     },
     "execution_count": 37,
     "metadata": {},
     "output_type": "execute_result"
    }
   ],
   "source": [
    "df['CATEGORY*'].nunique()"
   ]
  },
  {
   "cell_type": "code",
   "execution_count": 38,
   "metadata": {},
   "outputs": [
    {
     "data": {
      "text/plain": [
       "Business    647\n",
       "Personal      6\n",
       "Name: CATEGORY*, dtype: int64"
      ]
     },
     "execution_count": 38,
     "metadata": {},
     "output_type": "execute_result"
    }
   ],
   "source": [
    "df['CATEGORY*'].value_counts()"
   ]
  },
  {
   "cell_type": "code",
   "execution_count": 39,
   "metadata": {},
   "outputs": [
    {
     "name": "stdout",
     "output_type": "stream",
     "text": [
      "Proportion of miles covered as business trips are: 8.832662826615975\n"
     ]
    }
   ],
   "source": [
    "print('Proportion of miles covered as business trips are:',(1078/12204.7)*100)"
   ]
  },
  {
   "cell_type": "code",
   "execution_count": 40,
   "metadata": {},
   "outputs": [
    {
     "data": {
      "text/html": [
       "<div>\n",
       "<style scoped>\n",
       "    .dataframe tbody tr th:only-of-type {\n",
       "        vertical-align: middle;\n",
       "    }\n",
       "\n",
       "    .dataframe tbody tr th {\n",
       "        vertical-align: top;\n",
       "    }\n",
       "\n",
       "    .dataframe thead th {\n",
       "        text-align: right;\n",
       "    }\n",
       "</style>\n",
       "<table border=\"1\" class=\"dataframe\">\n",
       "  <thead>\n",
       "    <tr style=\"text-align: right;\">\n",
       "      <th></th>\n",
       "      <th>MILES*</th>\n",
       "    </tr>\n",
       "    <tr>\n",
       "      <th>CATEGORY*</th>\n",
       "      <th></th>\n",
       "    </tr>\n",
       "  </thead>\n",
       "  <tbody>\n",
       "    <tr>\n",
       "      <th>Business</th>\n",
       "      <td>97.079823</td>\n",
       "    </tr>\n",
       "    <tr>\n",
       "      <th>Personal</th>\n",
       "      <td>2.920177</td>\n",
       "    </tr>\n",
       "  </tbody>\n",
       "</table>\n",
       "</div>"
      ],
      "text/plain": [
       "              MILES*\n",
       "CATEGORY*           \n",
       "Business   97.079823\n",
       "Personal    2.920177"
      ]
     },
     "execution_count": 40,
     "metadata": {},
     "output_type": "execute_result"
    }
   ],
   "source": [
    "xy=df[['CATEGORY*','MILES*']].groupby('CATEGORY*').sum()/df['MILES*'].sum()*100\n",
    "xy"
   ]
  },
  {
   "cell_type": "markdown",
   "metadata": {},
   "source": [
    "# All the Uber trips that has the starting point of San Francisco"
   ]
  },
  {
   "cell_type": "code",
   "execution_count": 41,
   "metadata": {},
   "outputs": [],
   "source": [
    "df=pd.crosstab(df['START*'],df['STOP*'],margins=True)"
   ]
  },
  {
   "cell_type": "code",
   "execution_count": 42,
   "metadata": {},
   "outputs": [
    {
     "data": {
      "text/plain": [
       "<pandas.core.indexing._LocIndexer at 0x1b1e34470e0>"
      ]
     },
     "execution_count": 42,
     "metadata": {},
     "output_type": "execute_result"
    }
   ],
   "source": [
    "df.loc()"
   ]
  },
  {
   "cell_type": "code",
   "execution_count": 43,
   "metadata": {},
   "outputs": [
    {
     "data": {
      "text/html": [
       "<div>\n",
       "<style scoped>\n",
       "    .dataframe tbody tr th:only-of-type {\n",
       "        vertical-align: middle;\n",
       "    }\n",
       "\n",
       "    .dataframe tbody tr th {\n",
       "        vertical-align: top;\n",
       "    }\n",
       "\n",
       "    .dataframe thead th {\n",
       "        text-align: right;\n",
       "    }\n",
       "</style>\n",
       "<table border=\"1\" class=\"dataframe\">\n",
       "  <thead>\n",
       "    <tr style=\"text-align: right;\">\n",
       "      <th>STOP*</th>\n",
       "      <th>Agnew</th>\n",
       "      <th>Alief</th>\n",
       "      <th>Apex</th>\n",
       "      <th>Arabi</th>\n",
       "      <th>Asheville</th>\n",
       "      <th>Banner Elk</th>\n",
       "      <th>Bay Farm Island</th>\n",
       "      <th>Bellevue</th>\n",
       "      <th>Berkeley</th>\n",
       "      <th>Boone</th>\n",
       "      <th>...</th>\n",
       "      <th>Waverly Place</th>\n",
       "      <th>Wayne Ridge</th>\n",
       "      <th>West Palm Beach</th>\n",
       "      <th>West University</th>\n",
       "      <th>Weston</th>\n",
       "      <th>Westpark Place</th>\n",
       "      <th>Whitebridge</th>\n",
       "      <th>Williamsburg Manor</th>\n",
       "      <th>Winston Salem</th>\n",
       "      <th>All</th>\n",
       "    </tr>\n",
       "    <tr>\n",
       "      <th>START*</th>\n",
       "      <th></th>\n",
       "      <th></th>\n",
       "      <th></th>\n",
       "      <th></th>\n",
       "      <th></th>\n",
       "      <th></th>\n",
       "      <th></th>\n",
       "      <th></th>\n",
       "      <th></th>\n",
       "      <th></th>\n",
       "      <th></th>\n",
       "      <th></th>\n",
       "      <th></th>\n",
       "      <th></th>\n",
       "      <th></th>\n",
       "      <th></th>\n",
       "      <th></th>\n",
       "      <th></th>\n",
       "      <th></th>\n",
       "      <th></th>\n",
       "      <th></th>\n",
       "    </tr>\n",
       "  </thead>\n",
       "  <tbody>\n",
       "    <tr>\n",
       "      <th>Apex</th>\n",
       "      <td>0</td>\n",
       "      <td>0</td>\n",
       "      <td>0</td>\n",
       "      <td>0</td>\n",
       "      <td>0</td>\n",
       "      <td>0</td>\n",
       "      <td>0</td>\n",
       "      <td>0</td>\n",
       "      <td>0</td>\n",
       "      <td>0</td>\n",
       "      <td>...</td>\n",
       "      <td>0</td>\n",
       "      <td>0</td>\n",
       "      <td>0</td>\n",
       "      <td>0</td>\n",
       "      <td>0</td>\n",
       "      <td>0</td>\n",
       "      <td>0</td>\n",
       "      <td>0</td>\n",
       "      <td>0</td>\n",
       "      <td>11</td>\n",
       "    </tr>\n",
       "    <tr>\n",
       "      <th>Arabi</th>\n",
       "      <td>0</td>\n",
       "      <td>0</td>\n",
       "      <td>0</td>\n",
       "      <td>0</td>\n",
       "      <td>0</td>\n",
       "      <td>0</td>\n",
       "      <td>0</td>\n",
       "      <td>0</td>\n",
       "      <td>0</td>\n",
       "      <td>0</td>\n",
       "      <td>...</td>\n",
       "      <td>0</td>\n",
       "      <td>0</td>\n",
       "      <td>0</td>\n",
       "      <td>0</td>\n",
       "      <td>0</td>\n",
       "      <td>0</td>\n",
       "      <td>0</td>\n",
       "      <td>0</td>\n",
       "      <td>0</td>\n",
       "      <td>1</td>\n",
       "    </tr>\n",
       "    <tr>\n",
       "      <th>Asheville</th>\n",
       "      <td>0</td>\n",
       "      <td>0</td>\n",
       "      <td>0</td>\n",
       "      <td>0</td>\n",
       "      <td>0</td>\n",
       "      <td>0</td>\n",
       "      <td>0</td>\n",
       "      <td>0</td>\n",
       "      <td>0</td>\n",
       "      <td>0</td>\n",
       "      <td>...</td>\n",
       "      <td>0</td>\n",
       "      <td>0</td>\n",
       "      <td>0</td>\n",
       "      <td>0</td>\n",
       "      <td>0</td>\n",
       "      <td>0</td>\n",
       "      <td>0</td>\n",
       "      <td>0</td>\n",
       "      <td>0</td>\n",
       "      <td>1</td>\n",
       "    </tr>\n",
       "    <tr>\n",
       "      <th>Austin</th>\n",
       "      <td>0</td>\n",
       "      <td>0</td>\n",
       "      <td>0</td>\n",
       "      <td>0</td>\n",
       "      <td>0</td>\n",
       "      <td>0</td>\n",
       "      <td>0</td>\n",
       "      <td>0</td>\n",
       "      <td>0</td>\n",
       "      <td>0</td>\n",
       "      <td>...</td>\n",
       "      <td>0</td>\n",
       "      <td>0</td>\n",
       "      <td>0</td>\n",
       "      <td>0</td>\n",
       "      <td>0</td>\n",
       "      <td>0</td>\n",
       "      <td>0</td>\n",
       "      <td>0</td>\n",
       "      <td>0</td>\n",
       "      <td>1</td>\n",
       "    </tr>\n",
       "  </tbody>\n",
       "</table>\n",
       "<p>4 rows × 138 columns</p>\n",
       "</div>"
      ],
      "text/plain": [
       "STOP*      Agnew  Alief  Apex  Arabi  Asheville  Banner Elk  Bay Farm Island  \\\n",
       "START*                                                                         \n",
       "Apex           0      0     0      0          0           0                0   \n",
       "Arabi          0      0     0      0          0           0                0   \n",
       "Asheville      0      0     0      0          0           0                0   \n",
       "Austin         0      0     0      0          0           0                0   \n",
       "\n",
       "STOP*      Bellevue  Berkeley  Boone  ...  Waverly Place  Wayne Ridge  \\\n",
       "START*                                ...                               \n",
       "Apex              0         0      0  ...              0            0   \n",
       "Arabi             0         0      0  ...              0            0   \n",
       "Asheville         0         0      0  ...              0            0   \n",
       "Austin            0         0      0  ...              0            0   \n",
       "\n",
       "STOP*      West Palm Beach  West University  Weston  Westpark Place  \\\n",
       "START*                                                                \n",
       "Apex                     0                0       0               0   \n",
       "Arabi                    0                0       0               0   \n",
       "Asheville                0                0       0               0   \n",
       "Austin                   0                0       0               0   \n",
       "\n",
       "STOP*      Whitebridge  Williamsburg Manor  Winston Salem  All  \n",
       "START*                                                          \n",
       "Apex                 0                   0              0   11  \n",
       "Arabi                0                   0              0    1  \n",
       "Asheville            0                   0              0    1  \n",
       "Austin               0                   0              0    1  \n",
       "\n",
       "[4 rows x 138 columns]"
      ]
     },
     "execution_count": 43,
     "metadata": {},
     "output_type": "execute_result"
    }
   ],
   "source": [
    "df.iloc[0:4]"
   ]
  },
  {
   "cell_type": "code",
   "execution_count": null,
   "metadata": {},
   "outputs": [],
   "source": []
  }
 ],
 "metadata": {
  "kernelspec": {
   "display_name": "Python 3",
   "language": "python",
   "name": "python3"
  },
  "language_info": {
   "codemirror_mode": {
    "name": "ipython",
    "version": 3
   },
   "file_extension": ".py",
   "mimetype": "text/x-python",
   "name": "python",
   "nbconvert_exporter": "python",
   "pygments_lexer": "ipython3",
   "version": "3.8.3"
  }
 },
 "nbformat": 4,
 "nbformat_minor": 4
}
